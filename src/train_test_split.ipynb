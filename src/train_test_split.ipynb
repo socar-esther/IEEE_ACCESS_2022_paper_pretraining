{
 "cells": [
  {
   "cell_type": "markdown",
   "metadata": {},
   "source": [
    "### Train, Test 용으로 raw dataset을 Split"
   ]
  },
  {
   "cell_type": "code",
   "execution_count": 2,
   "metadata": {},
   "outputs": [],
   "source": [
    "import os\n",
    "import pandas as pd\n",
    "import numpy as np \n",
    "import shutil"
   ]
  },
  {
   "cell_type": "code",
   "execution_count": 3,
   "metadata": {},
   "outputs": [],
   "source": [
    "np.random.seed(10)"
   ]
  },
  {
   "cell_type": "code",
   "execution_count": 4,
   "metadata": {},
   "outputs": [],
   "source": [
    "# path = '../dataset/temp_ray_v_stonic'\n",
    "path = '../dataset/2_class_classification/Training'"
   ]
  },
  {
   "cell_type": "code",
   "execution_count": 6,
   "metadata": {},
   "outputs": [
    {
     "name": "stdout",
     "output_type": "stream",
     "text": [
      "0\n",
      "750\n",
      "0\n",
      "750\n"
     ]
    }
   ],
   "source": [
    "def save_file(class_path, save_path, filenames, start_num, end_num):\n",
    "    \n",
    "    print(start_num)\n",
    "    print(end_num)\n",
    "    \n",
    "    target_filenames = filenames[start_num:end_num]\n",
    "    \n",
    "    for target_filename in target_filenames:\n",
    "        \n",
    "        src = os.path.join(class_path, target_filename)\n",
    "        dst = os.path.join(save_path, target_filename)\n",
    "        \n",
    "        shutil.copy(src, dst)\n",
    "\n",
    "def split_train_test(base_path):\n",
    "    \n",
    "    for car_class in os.listdir(path):\n",
    "        \n",
    "        car_class_path = os.path.join(path, car_class)\n",
    "        car_filenames = os.listdir(car_class_path)\n",
    "        \n",
    "        train_path = os.path.join('../dataset/', '10_class_classification_75p', 'Training', car_class)\n",
    "#         test_path = os.path.join('../dataset/', '2_class_classification', 'Test', car_class)\n",
    "        \n",
    "        if not os.path.exists(train_path):\n",
    "            os.makedirs(train_path)\n",
    "            \n",
    "#         if not os.path.exists(test_path):\n",
    "#             os.makedirs(test_path)\n",
    "        \n",
    "        # 원래는 0, 1000 => 5p - 50, 10p - 100, 25p - 250, 50p - 500, 75p - 750\n",
    "        save_file(car_class_path, train_path, car_filenames, 0, 750) \n",
    "#         save_file(car_class_path, test_path, car_filenames, 1000, 1500)\n",
    "    \n",
    "    \n",
    "split_train_test(path)"
   ]
  }
 ],
 "metadata": {
  "kernelspec": {
   "display_name": "Python 3",
   "language": "python",
   "name": "python3"
  },
  "language_info": {
   "codemirror_mode": {
    "name": "ipython",
    "version": 3
   },
   "file_extension": ".py",
   "mimetype": "text/x-python",
   "name": "python",
   "nbconvert_exporter": "python",
   "pygments_lexer": "ipython3",
   "version": "3.7.4"
  }
 },
 "nbformat": 4,
 "nbformat_minor": 4
}
