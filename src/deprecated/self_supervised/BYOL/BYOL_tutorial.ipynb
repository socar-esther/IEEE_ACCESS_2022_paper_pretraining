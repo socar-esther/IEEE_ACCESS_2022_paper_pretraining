{
 "cells": [
  {
   "cell_type": "markdown",
   "id": "5a749e39",
   "metadata": {},
   "source": [
    "## BYOL : Bootstrap Your Own Latent\n",
    "- benchmark 실험 데이터셋 : CIFAR-10\n",
    "- 참고 (노트북): https://github.com/reshinthadithyan/BYOL-Pytorch/blob/master/BYOL_Pytorch%20(1).ipynb"
   ]
  },
  {
   "cell_type": "code",
   "execution_count": 1,
   "id": "a92a504c",
   "metadata": {},
   "outputs": [
    {
     "data": {
      "text/plain": [
       "<torch._C.Generator at 0x7f38ec03c630>"
      ]
     },
     "execution_count": 1,
     "metadata": {},
     "output_type": "execute_result"
    }
   ],
   "source": [
    "# requirements\n",
    "import os\n",
    "import torch\n",
    "import torch.nn as nn\n",
    "import torch.nn.functional as F\n",
    "import torch.utils.data.dataloader\n",
    "from torchvision import datasets\n",
    "from torchvision.transforms import transforms\n",
    "import torchvision.models\n",
    "import cv2\n",
    "import numpy as np\n",
    "from tqdm import tqdm\n",
    "\n",
    "np.random.seed(0)\n",
    "torch.manual_seed(42)"
   ]
  },
  {
   "cell_type": "markdown",
   "id": "848e1bc1",
   "metadata": {},
   "source": [
    "### augmentation"
   ]
  },
  {
   "cell_type": "code",
   "execution_count": 2,
   "id": "c40a2fbb",
   "metadata": {},
   "outputs": [],
   "source": [
    "# augmentation functions\n",
    "## GaussianBlur : contrastive learning에서 2개의 다른 이미지를 생성하는데 사용되는 augmentation 기법\n",
    "class GaussianBlur(object):\n",
    "    \"\"\"blur a single image on CPU\"\"\"\n",
    "\n",
    "    def __init__(self, kernel_size):\n",
    "        radias = kernel_size // 2\n",
    "        kernel_size = radias * 2 + 1\n",
    "        self.blur_h = nn.Conv2d(3, 3, kernel_size=(kernel_size, 1),\n",
    "                                stride=1, padding=0, bias=False, groups=3)\n",
    "        self.blur_v = nn.Conv2d(3, 3, kernel_size=(1, kernel_size),\n",
    "                                stride=1, padding=0, bias=False, groups=3)\n",
    "        self.k = kernel_size\n",
    "        self.r = radias\n",
    "\n",
    "        self.blur = nn.Sequential(\n",
    "            nn.ReflectionPad2d(radias),\n",
    "            self.blur_h,\n",
    "            self.blur_v\n",
    "        )\n",
    "\n",
    "        self.pil_to_tensor = transforms.ToTensor()\n",
    "        self.tensor_to_pil = transforms.ToPILImage()\n",
    "\n",
    "    def __call__(self, img):\n",
    "        img = self.pil_to_tensor(img).unsqueeze(0)\n",
    "\n",
    "        sigma = np.random.uniform(0.1, 2.0)\n",
    "        x = np.arange(-self.r, self.r + 1)\n",
    "        x = np.exp(-np.power(x, 2) / (2 * sigma * sigma))\n",
    "        x = x / x.sum()\n",
    "        x = torch.from_numpy(x).view(1, -1).repeat(3, 1)\n",
    "\n",
    "        self.blur_h.weight.data.copy_(x.view(3, 1, self.k, 1))\n",
    "        self.blur_v.weight.data.copy_(x.view(3, 1, 1, self.k))\n",
    "\n",
    "        with torch.no_grad():\n",
    "            img = self.blur(img)\n",
    "            img = img.squeeze()\n",
    "\n",
    "        img = self.tensor_to_pil(img)\n",
    "\n",
    "        return img"
   ]
  },
  {
   "cell_type": "code",
   "execution_count": 3,
   "id": "4edb4e38",
   "metadata": {},
   "outputs": [],
   "source": [
    "def Transforms(Input_Dim,S=1):\n",
    "    Color_Jitter = transforms.ColorJitter(0.8*S,0.8*S,0.8*S,0.2*S)\n",
    "    Data_Transforms = transforms.Compose([transforms.RandomResizedCrop(size=Input_Dim[0]),\n",
    "                                         transforms.RandomHorizontalFlip(),\n",
    "                                         transforms.RandomApply([Color_Jitter],p=0.75),\n",
    "                                         transforms.RandomGrayscale(p=0.2),\n",
    "                                         GaussianBlur(int(0.1*Input_Dim[0])),\n",
    "                                         transforms.ToTensor(),\n",
    "                                        ])\n",
    "    return Data_Transforms"
   ]
  },
  {
   "cell_type": "code",
   "execution_count": 4,
   "id": "8101e0c9",
   "metadata": {},
   "outputs": [],
   "source": [
    "class MultiViewDataInjector(object):\n",
    "    def __init__(self,Transforms):\n",
    "        self.transforms = Transforms\n",
    "    def __call__(self,Sample,*Consistent_Flip):\n",
    "        if Consistent_Flip:\n",
    "            Sample  =  torchvision.transforms.RandomHorizontalFlip()\n",
    "        Output = [transforms(Sample) for transforms in self.transforms]\n",
    "        return Output"
   ]
  },
  {
   "cell_type": "markdown",
   "id": "9f3b92c1",
   "metadata": {},
   "source": [
    "### models"
   ]
  },
  {
   "cell_type": "code",
   "execution_count": 5,
   "id": "830510ca",
   "metadata": {},
   "outputs": [],
   "source": [
    "# model\n",
    "## mlp_base : encoder에서 latent space 생성\n",
    "## skeleton net : mlp_base에서 latent space 받아서 resnet으로 representation 학습하는 부분 \n",
    "class MLP_Base(nn.Module):\n",
    "    def __init__(self,Inp,Hidden,Projection):\n",
    "        super(MLP_Base,self).__init__()\n",
    "        self.Linear1 = nn.Linear(Inp,Hidden)\n",
    "        self.BatchNorm = nn.BatchNorm1d(Hidden)\n",
    "        self.Linear2 = nn.Linear(Hidden,Projection)\n",
    "    def forward(self,Input):\n",
    "        Linear_Inp = torch.relu(self.BatchNorm(self.Linear1(Input)))\n",
    "        Linear_Out = self.Linear2(Linear_Inp)\n",
    "        return Linear_Out\n",
    "        \n",
    "class SkeletonNet(nn.Module):\n",
    "    def __init__(self,Hid,Proj):\n",
    "        super(SkeletonNet,self).__init__()\n",
    "        Resnet = torchvision.models.resnet18(pretrained=False)\n",
    "        self.Encoder = torch.nn.Sequential(*list(Resnet.children())[:-1])\n",
    "        self.Proj = MLP_Base(Resnet.fc.in_features,Hid,Proj)\n",
    "    def forward(self,Input):\n",
    "        Enc_Out = self.Encoder(Input)\n",
    "        Enc_Out = Enc_Out.view(Enc_Out.size(0),Enc_Out.size(1))\n",
    "        Final = self.Proj(Enc_Out)\n",
    "        return Final"
   ]
  },
  {
   "cell_type": "code",
   "execution_count": 13,
   "id": "2eca6cb7",
   "metadata": {},
   "outputs": [],
   "source": [
    "# training class \n",
    "class BYOL:\n",
    "    def __init__(self,Online_Net,Target_Net,Predictor,Optim,Params):\n",
    "        self.Online_Net = Online_Net\n",
    "        self.Target_Net = Target_Net\n",
    "        self.Predictor  = Predictor\n",
    "        self.Optim      = Optim\n",
    "        self.Device     = Params['Device']\n",
    "        self.Epochs     = Params['Epochs']\n",
    "        self.Moment        = Params['M']\n",
    "        self.Batch_Size = Params['Batch_Size']\n",
    "        self.Save_Path = 'BYOL.pth'\n",
    "    @torch.no_grad()\n",
    "    def Update_Target_Params(self):\n",
    "        for Param_Online,Param_Target in zip(self.Online_Net.parameters(),self.Target_Net.parameters()):\n",
    "            Param_Target = Param_Target.data *self.Moment + Param_Online.data*(1-self.Moment)\n",
    "    @staticmethod          \n",
    "    def Loss(Rep1,Rep2):\n",
    "        Norm_Rep1 = F.normalize(Rep1,dim=-1,p=2) #L2-Normalized Rep One\n",
    "        Norm_Rep2 = F.normalize(Rep2,dim=-1,p=2) #L2 Normalized Rep Two\n",
    "        Loss = -2 * (Norm_Rep1*Norm_Rep2).sum(dim=-1)\n",
    "        return Loss \n",
    "    def Init_Target_Network(self):\n",
    "        for Param_Online,Param_Target in zip(self.Online_Net.parameters(),self.Target_Net.parameters()):\n",
    "            Param_Target.data.copy_(Param_Online.data) #Init Target with Param_Online\n",
    "            Param_Target.requires_grad = False\n",
    "    def TrainLoop(self,View1,View2):\n",
    "        self.Optim.zero_grad()\n",
    "        Pred1 = self.Predictor(self.Online_Net(View1))\n",
    "        Pred2 = self.Predictor(self.Online_Net(View2))\n",
    "        with torch.no_grad():\n",
    "            Target2 = self.Target_Net(View1)\n",
    "            Target1 = self.Target_Net(View2)\n",
    "        Loss_Calc = self.Loss(Pred1,Target1) + self.Loss(Pred2,Target2)\n",
    "        return Loss_Calc.mean()\n",
    "    def Train(self,Trainset):\n",
    "        TrainLoader = torch.utils.data.DataLoader(Trainset,batch_size=self.Batch_Size,drop_last=False,shuffle=True)\n",
    "        self.Init_Target_Network()\n",
    "        for Epoch in range(self.Epochs):\n",
    "            Loss_Count = 0.0\n",
    "            print(\"Epoch {}\".format(Epoch))\n",
    "            for (View_1,View_2),_ in tqdm(TrainLoader):\n",
    "                View_1 = View_1.to(self.Device)\n",
    "                View_2 = View_2.to(self.Device)\n",
    "                Loss = self.TrainLoop(View_1,View_2)\n",
    "                Loss_Count += Loss.item()\n",
    "                Loss.backward()\n",
    "                self.Optim.step()\n",
    "                self.Update_Target_Params()\n",
    "            Epoch_Loss = Loss_Count/len(TrainLoader)\n",
    "            #print(\"\\n Epoch {} Loss:{} : \".format(Epoch,Epoch_Loss))\n",
    "        self.Save(self.Save_Path)\n",
    "    def Save(self,Save):\n",
    "        torch.save({'Online_Net':self.Online_Net.state_dict(),\n",
    "                    'Enc_Net':self.Online_Net.Encoder.state_dict(),\n",
    "                    'Target_Net':self.Target_Net.state_dict(),\n",
    "                    'Optim':self.Optim.state_dict()},Save)"
   ]
  },
  {
   "cell_type": "markdown",
   "id": "e887ae99",
   "metadata": {},
   "source": [
    "### main training"
   ]
  },
  {
   "cell_type": "code",
   "execution_count": 14,
   "id": "715548c3",
   "metadata": {},
   "outputs": [],
   "source": [
    "# main training \n",
    "Parameters = {'Epochs':3,'M':0.99,'Batch_Size':64,'Device':'cuda','Hidden':512,'Proj':128,'LR':0.03}"
   ]
  },
  {
   "cell_type": "code",
   "execution_count": 15,
   "id": "a2775b41",
   "metadata": {},
   "outputs": [
    {
     "name": "stdout",
     "output_type": "stream",
     "text": [
      "Files already downloaded and verified\n"
     ]
    }
   ],
   "source": [
    "Data_Transforms = Transforms((3,32,32))\n",
    "Dataset = datasets.CIFAR10('./data',download=True,transform=MultiViewDataInjector([Data_Transforms,Data_Transforms]))"
   ]
  },
  {
   "cell_type": "code",
   "execution_count": 16,
   "id": "9a2db6d5",
   "metadata": {},
   "outputs": [],
   "source": [
    "Online_Network = SkeletonNet(Parameters['Hidden'],Parameters['Proj'])\n",
    "Predictor = MLP_Base(Online_Network.Proj.Linear2.out_features,Parameters['Hidden'],Parameters['Proj'])\n",
    "Target_Network = SkeletonNet(Parameters['Hidden'],Parameters['Proj'])"
   ]
  },
  {
   "cell_type": "code",
   "execution_count": 17,
   "id": "7d285279",
   "metadata": {},
   "outputs": [
    {
     "name": "stdout",
     "output_type": "stream",
     "text": [
      "Models Made.\n"
     ]
    }
   ],
   "source": [
    "Online_Network.to(Parameters['Device'])\n",
    "Predictor.to(Parameters['Device'])\n",
    "Target_Network.to(Parameters['Device'])\n",
    "print(\"Models Made.\")"
   ]
  },
  {
   "cell_type": "code",
   "execution_count": 18,
   "id": "51e4b29e",
   "metadata": {},
   "outputs": [],
   "source": [
    "Optimizer = torch.optim.SGD(list(Online_Network.parameters())+list(Predictor.parameters()),lr=0.03)"
   ]
  },
  {
   "cell_type": "code",
   "execution_count": 19,
   "id": "02917204",
   "metadata": {},
   "outputs": [],
   "source": [
    "Trainer = BYOL(Online_Network,Target_Network,Predictor,Optimizer,Parameters)"
   ]
  },
  {
   "cell_type": "code",
   "execution_count": 20,
   "id": "cc91f20c",
   "metadata": {},
   "outputs": [
    {
     "name": "stderr",
     "output_type": "stream",
     "text": [
      "  0%|          | 0/782 [00:00<?, ?it/s]"
     ]
    },
    {
     "name": "stdout",
     "output_type": "stream",
     "text": [
      "Epoch 0\n"
     ]
    },
    {
     "name": "stderr",
     "output_type": "stream",
     "text": [
      "100%|██████████| 782/782 [02:28<00:00,  5.26it/s]\n",
      "  0%|          | 1/782 [00:00<02:09,  6.04it/s]"
     ]
    },
    {
     "name": "stdout",
     "output_type": "stream",
     "text": [
      "Epoch 1\n"
     ]
    },
    {
     "name": "stderr",
     "output_type": "stream",
     "text": [
      "100%|██████████| 782/782 [02:38<00:00,  4.94it/s]\n",
      "  0%|          | 0/782 [00:00<?, ?it/s]"
     ]
    },
    {
     "name": "stdout",
     "output_type": "stream",
     "text": [
      "Epoch 2\n"
     ]
    },
    {
     "name": "stderr",
     "output_type": "stream",
     "text": [
      "100%|██████████| 782/782 [02:28<00:00,  5.27it/s]\n"
     ]
    }
   ],
   "source": [
    "# 학습 실행 \n",
    "Trainer.Train(Dataset)"
   ]
  },
  {
   "cell_type": "code",
   "execution_count": null,
   "id": "5b02bdf1",
   "metadata": {},
   "outputs": [],
   "source": []
  }
 ],
 "metadata": {
  "environment": {
   "name": "pytorch-gpu.1-8.m68",
   "type": "gcloud",
   "uri": "gcr.io/deeplearning-platform-release/pytorch-gpu.1-8:m68"
  },
  "kernelspec": {
   "display_name": "Python [conda env:root] *",
   "language": "python",
   "name": "conda-root-py"
  },
  "language_info": {
   "codemirror_mode": {
    "name": "ipython",
    "version": 3
   },
   "file_extension": ".py",
   "mimetype": "text/x-python",
   "name": "python",
   "nbconvert_exporter": "python",
   "pygments_lexer": "ipython3",
   "version": "3.7.10"
  }
 },
 "nbformat": 4,
 "nbformat_minor": 5
}
