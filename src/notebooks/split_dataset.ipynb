{
 "cells": [
  {
   "cell_type": "code",
   "execution_count": 1,
   "id": "3f90e3c8",
   "metadata": {},
   "outputs": [
    {
     "name": "stdout",
     "output_type": "stream",
     "text": [
      "0\n",
      "300\n",
      "300\n",
      "400\n",
      "0\n",
      "300\n",
      "300\n",
      "400\n",
      "0\n",
      "300\n",
      "300\n",
      "400\n",
      "0\n",
      "300\n",
      "300\n",
      "400\n"
     ]
    }
   ],
   "source": [
    "# Training set으로 300장씩 가져오고\n",
    "import os\n",
    "import pandas as pd\n",
    "import numpy as np\n",
    "import shutil\n",
    "\n",
    "np.random.seed(10)\n",
    "\n",
    "path = '../../dataset/merged/'\n",
    "\n",
    "def save_file(class_path, save_path, filenames, start_num, end_num):\n",
    "    print(start_num)\n",
    "    print(end_num)\n",
    "    target_filenames = filenames[start_num:end_num]\n",
    "    for target_filename in target_filenames:\n",
    "        src = os.path.join(class_path, target_filename)\n",
    "        dst = os.path.join(save_path, target_filename)\n",
    "        shutil.copy(src, dst)\n",
    "        \n",
    "def split_train_test(path):\n",
    "    \n",
    "    for class_nm in os.listdir(path):\n",
    "        \n",
    "        class_path = os.path.join(path, class_nm)\n",
    "        filenames = os.listdir(class_path)\n",
    "        \n",
    "        train_path = os.path.join('../../dataset/v2_merged', 'Training', class_nm)\n",
    "        test_path = os.path.join('../../dataset/v2_merged', 'Test', class_nm)\n",
    "        \n",
    "        if not os.path.exists(train_path):\n",
    "            os.makedirs(train_path)\n",
    "        if not os.path.exists(test_path):\n",
    "            os.makedirs(test_path)\n",
    "            \n",
    "        save_file(class_path, train_path, filenames, 0, 300)\n",
    "        save_file(class_path, test_path, filenames, 300, 400)\n",
    "        \n",
    "split_train_test(path)"
   ]
  },
  {
   "cell_type": "code",
   "execution_count": null,
   "id": "f82b7234",
   "metadata": {},
   "outputs": [],
   "source": []
  },
  {
   "cell_type": "code",
   "execution_count": null,
   "id": "c9dfb0cb",
   "metadata": {},
   "outputs": [],
   "source": [
    "# Test set으로 100장씩 가져오기\n"
   ]
  }
 ],
 "metadata": {
  "environment": {
   "name": "pytorch-gpu.1-8.m68",
   "type": "gcloud",
   "uri": "gcr.io/deeplearning-platform-release/pytorch-gpu.1-8:m68"
  },
  "kernelspec": {
   "display_name": "Python [conda env:root] *",
   "language": "python",
   "name": "conda-root-py"
  },
  "language_info": {
   "codemirror_mode": {
    "name": "ipython",
    "version": 3
   },
   "file_extension": ".py",
   "mimetype": "text/x-python",
   "name": "python",
   "nbconvert_exporter": "python",
   "pygments_lexer": "ipython3",
   "version": "3.7.10"
  }
 },
 "nbformat": 4,
 "nbformat_minor": 5
}
