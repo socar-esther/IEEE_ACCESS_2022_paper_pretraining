{
 "cells": [
  {
   "cell_type": "code",
   "execution_count": 10,
   "id": "fb9eedfa",
   "metadata": {},
   "outputs": [],
   "source": [
    "# for CKA\n",
    "import random\n",
    "import gc\n",
    "import os\n",
    "import numpy as np\n",
    "import pickle\n",
    "import gzip\n",
    "import cca_core\n",
    "from CKA import linear_CKA, kernel_CKA\n",
    "\n",
    "# for model\n",
    "import torch\n",
    "import torchvision\n",
    "\n",
    "import torch.nn as nn\n",
    "from torchvision import transforms as T\n",
    "from torchvision.models import resnet50\n",
    "import cv2\n",
    "import random\n",
    "import math\n",
    "import pandas as pd\n",
    "from PIL import Image\n",
    "\n",
    "device = \"cuda:0\" "
   ]
  },
  {
   "cell_type": "code",
   "execution_count": 11,
   "id": "c8a1dc45",
   "metadata": {},
   "outputs": [
    {
     "name": "stdout",
     "output_type": "stream",
     "text": [
      "Random Seed:  42\n"
     ]
    }
   ],
   "source": [
    "# use fixed seed\n",
    "manual_seed = 42\n",
    "print(\"Random Seed: \", manual_seed)\n",
    "random.seed(manual_seed)\n",
    "torch.manual_seed(manual_seed)\n",
    "torch.cuda.manual_seed_all(manual_seed)"
   ]
  },
  {
   "cell_type": "code",
   "execution_count": 12,
   "id": "e12ed227",
   "metadata": {},
   "outputs": [],
   "source": [
    "def test_dataloader():\n",
    "\n",
    "    transform_test = T.Compose([\n",
    "        T.Resize((550, 550)),\n",
    "        T.CenterCrop(448),\n",
    "        T.ToTensor(),\n",
    "        T.Normalize((0.5, 0.5, 0.5), (0.5, 0.5, 0.5)),\n",
    "    ])\n",
    "    \n",
    "    #ImageFile.LOAD_TRUNCATED_IMAGES = True\n",
    "    testset = torchvision.datasets.ImageFolder(root='../../dataset/Accida_classification/split_dataset_v5_normal_strong_100/Test',transform=transform_test)\n",
    "    testloader = torch.utils.data.DataLoader(testset, shuffle=False, num_workers=4,  batch_size=4) # batch_size = 16\n",
    "\n",
    "    return testset, testloader\n"
   ]
  },
  {
   "cell_type": "code",
   "execution_count": 13,
   "id": "145ac2f3",
   "metadata": {},
   "outputs": [],
   "source": [
    "image_datasets, dataloaders = test_dataloader()"
   ]
  },
  {
   "cell_type": "code",
   "execution_count": 14,
   "id": "4d65ab55",
   "metadata": {},
   "outputs": [
    {
     "data": {
      "text/plain": [
       "<torch.utils.data.dataloader.DataLoader at 0x7f33a60d2210>"
      ]
     },
     "execution_count": 14,
     "metadata": {},
     "output_type": "execute_result"
    }
   ],
   "source": [
    "dataloaders"
   ]
  },
  {
   "cell_type": "code",
   "execution_count": null,
   "id": "74b645a6",
   "metadata": {},
   "outputs": [],
   "source": []
  },
  {
   "cell_type": "markdown",
   "id": "23a1a41b",
   "metadata": {},
   "source": [
    "### #1. CKA Tutorial codes"
   ]
  },
  {
   "cell_type": "code",
   "execution_count": 12,
   "id": "6a14c802",
   "metadata": {},
   "outputs": [
    {
     "data": {
      "text/plain": [
       "_IncompatibleKeys(missing_keys=['fc.weight', 'fc.bias'], unexpected_keys=['fc.0.weight', 'fc.0.bias'])"
      ]
     },
     "execution_count": 12,
     "metadata": {},
     "output_type": "execute_result"
    }
   ],
   "source": [
    "# load the pretrained models\n",
    "net = resnet50(pretrained = False)\n",
    "best_checkpoint = 'models_activations/socarvision_Upstream/upstream/10class_resnet50_acc92_rotnet_pretrain_true.pth'\n",
    "net.load_state_dict(torch.load(best_checkpoint, map_location=device), strict = False)"
   ]
  },
  {
   "cell_type": "code",
   "execution_count": 13,
   "id": "ddb259bb",
   "metadata": {},
   "outputs": [],
   "source": [
    "# single gpu for torch register hook\n",
    "net = net.to(device)\n",
    "net = net.eval()"
   ]
  },
  {
   "cell_type": "code",
   "execution_count": 14,
   "id": "5f1dd740",
   "metadata": {},
   "outputs": [
    {
     "name": "stdout",
     "output_type": "stream",
     "text": [
      ">> check layer name :  Conv2d(3, 64, kernel_size=(7, 7), stride=(2, 2), padding=(3, 3), bias=False)\n",
      ">> check layer name :  Conv2d(64, 64, kernel_size=(1, 1), stride=(1, 1), bias=False)\n",
      ">> check layer name :  Conv2d(64, 64, kernel_size=(3, 3), stride=(1, 1), padding=(1, 1), bias=False)\n",
      ">> check layer name :  Conv2d(64, 256, kernel_size=(1, 1), stride=(1, 1), bias=False)\n",
      ">> check layer name :  Conv2d(64, 256, kernel_size=(1, 1), stride=(1, 1), bias=False)\n",
      ">> check layer name :  Conv2d(256, 64, kernel_size=(1, 1), stride=(1, 1), bias=False)\n",
      ">> check layer name :  Conv2d(64, 64, kernel_size=(3, 3), stride=(1, 1), padding=(1, 1), bias=False)\n",
      ">> check layer name :  Conv2d(64, 256, kernel_size=(1, 1), stride=(1, 1), bias=False)\n",
      ">> check layer name :  Conv2d(256, 64, kernel_size=(1, 1), stride=(1, 1), bias=False)\n",
      ">> check layer name :  Conv2d(64, 64, kernel_size=(3, 3), stride=(1, 1), padding=(1, 1), bias=False)\n",
      ">> check layer name :  Conv2d(64, 256, kernel_size=(1, 1), stride=(1, 1), bias=False)\n",
      ">> check layer name :  Conv2d(256, 128, kernel_size=(1, 1), stride=(1, 1), bias=False)\n",
      ">> check layer name :  Conv2d(128, 128, kernel_size=(3, 3), stride=(2, 2), padding=(1, 1), bias=False)\n",
      ">> check layer name :  Conv2d(128, 512, kernel_size=(1, 1), stride=(1, 1), bias=False)\n",
      ">> check layer name :  Conv2d(256, 512, kernel_size=(1, 1), stride=(2, 2), bias=False)\n",
      ">> check layer name :  Conv2d(512, 128, kernel_size=(1, 1), stride=(1, 1), bias=False)\n",
      ">> check layer name :  Conv2d(128, 128, kernel_size=(3, 3), stride=(1, 1), padding=(1, 1), bias=False)\n",
      ">> check layer name :  Conv2d(128, 512, kernel_size=(1, 1), stride=(1, 1), bias=False)\n",
      ">> check layer name :  Conv2d(512, 128, kernel_size=(1, 1), stride=(1, 1), bias=False)\n",
      ">> check layer name :  Conv2d(128, 128, kernel_size=(3, 3), stride=(1, 1), padding=(1, 1), bias=False)\n",
      ">> check layer name :  Conv2d(128, 512, kernel_size=(1, 1), stride=(1, 1), bias=False)\n",
      ">> check layer name :  Conv2d(512, 128, kernel_size=(1, 1), stride=(1, 1), bias=False)\n",
      ">> check layer name :  Conv2d(128, 128, kernel_size=(3, 3), stride=(1, 1), padding=(1, 1), bias=False)\n",
      ">> check layer name :  Conv2d(128, 512, kernel_size=(1, 1), stride=(1, 1), bias=False)\n",
      ">> check layer name :  Conv2d(512, 256, kernel_size=(1, 1), stride=(1, 1), bias=False)\n",
      ">> check layer name :  Conv2d(256, 256, kernel_size=(3, 3), stride=(2, 2), padding=(1, 1), bias=False)\n",
      ">> check layer name :  Conv2d(256, 1024, kernel_size=(1, 1), stride=(1, 1), bias=False)\n",
      ">> check layer name :  Conv2d(512, 1024, kernel_size=(1, 1), stride=(2, 2), bias=False)\n",
      ">> check layer name :  Conv2d(1024, 256, kernel_size=(1, 1), stride=(1, 1), bias=False)\n",
      ">> check layer name :  Conv2d(256, 256, kernel_size=(3, 3), stride=(1, 1), padding=(1, 1), bias=False)\n",
      ">> check layer name :  Conv2d(256, 1024, kernel_size=(1, 1), stride=(1, 1), bias=False)\n",
      ">> check layer name :  Conv2d(1024, 256, kernel_size=(1, 1), stride=(1, 1), bias=False)\n",
      ">> check layer name :  Conv2d(256, 256, kernel_size=(3, 3), stride=(1, 1), padding=(1, 1), bias=False)\n",
      ">> check layer name :  Conv2d(256, 1024, kernel_size=(1, 1), stride=(1, 1), bias=False)\n",
      ">> check layer name :  Conv2d(1024, 256, kernel_size=(1, 1), stride=(1, 1), bias=False)\n",
      ">> check layer name :  Conv2d(256, 256, kernel_size=(3, 3), stride=(1, 1), padding=(1, 1), bias=False)\n",
      ">> check layer name :  Conv2d(256, 1024, kernel_size=(1, 1), stride=(1, 1), bias=False)\n",
      ">> check layer name :  Conv2d(1024, 256, kernel_size=(1, 1), stride=(1, 1), bias=False)\n",
      ">> check layer name :  Conv2d(256, 256, kernel_size=(3, 3), stride=(1, 1), padding=(1, 1), bias=False)\n",
      ">> check layer name :  Conv2d(256, 1024, kernel_size=(1, 1), stride=(1, 1), bias=False)\n",
      ">> check layer name :  Conv2d(1024, 256, kernel_size=(1, 1), stride=(1, 1), bias=False)\n",
      ">> check layer name :  Conv2d(256, 256, kernel_size=(3, 3), stride=(1, 1), padding=(1, 1), bias=False)\n",
      ">> check layer name :  Conv2d(256, 1024, kernel_size=(1, 1), stride=(1, 1), bias=False)\n",
      ">> check layer name :  Conv2d(1024, 512, kernel_size=(1, 1), stride=(1, 1), bias=False)\n",
      ">> check layer name :  Conv2d(512, 512, kernel_size=(3, 3), stride=(2, 2), padding=(1, 1), bias=False)\n",
      ">> check layer name :  Conv2d(512, 2048, kernel_size=(1, 1), stride=(1, 1), bias=False)\n",
      ">> check layer name :  Conv2d(1024, 2048, kernel_size=(1, 1), stride=(2, 2), bias=False)\n",
      ">> check layer name :  Conv2d(2048, 512, kernel_size=(1, 1), stride=(1, 1), bias=False)\n",
      ">> check layer name :  Conv2d(512, 512, kernel_size=(3, 3), stride=(1, 1), padding=(1, 1), bias=False)\n",
      ">> check layer name :  Conv2d(512, 2048, kernel_size=(1, 1), stride=(1, 1), bias=False)\n",
      ">> check layer name :  Conv2d(2048, 512, kernel_size=(1, 1), stride=(1, 1), bias=False)\n",
      ">> check layer name :  Conv2d(512, 512, kernel_size=(3, 3), stride=(1, 1), padding=(1, 1), bias=False)\n",
      ">> check layer name :  Conv2d(512, 2048, kernel_size=(1, 1), stride=(1, 1), bias=False)\n",
      ">> check layer number :  53\n"
     ]
    }
   ],
   "source": [
    "# [case1] includes conv2d layers\n",
    "count = 0 \n",
    "layer_name_list = list()\n",
    "\n",
    "def get_features(name):\n",
    "    def hook(model, input, output):\n",
    "        features[name] = output.detach()\n",
    "    return hook\n",
    "\n",
    "for layer in net.modules() :\n",
    "    if isinstance(layer, torch.nn.modules.conv.Conv2d) :\n",
    "        print('>> check layer name : ', layer)\n",
    "        layer_name_list.append(layer)\n",
    "\n",
    "        layer.register_forward_hook(get_features(str(count)))\n",
    "        count += 1\n",
    "        \n",
    "print('>> check layer number : ', len(layer_name_list))"
   ]
  },
  {
   "cell_type": "code",
   "execution_count": 15,
   "id": "ddaed7a3",
   "metadata": {},
   "outputs": [
    {
     "name": "stdout",
     "output_type": "stream",
     "text": [
      ">> check count value :  53\n"
     ]
    }
   ],
   "source": [
    "print('>> check count value : ', count)"
   ]
  },
  {
   "cell_type": "code",
   "execution_count": 16,
   "id": "b1b8cd65",
   "metadata": {},
   "outputs": [
    {
     "name": "stderr",
     "output_type": "stream",
     "text": [
      "13it [00:01,  6.78it/s]\n"
     ]
    }
   ],
   "source": [
    "# get 0th conv layer output feature\n",
    "from tqdm import tqdm\n",
    "preds_list = list()\n",
    "feats_list = list()\n",
    "\n",
    "for idx, (img, label) in tqdm(enumerate(dataloaders)) :\n",
    "    \n",
    "    img = img.to(device)\n",
    "    label = label.to(device)\n",
    "    \n",
    "    features = dict()\n",
    "    preds = net(img)\n",
    "    \n",
    "    preds_list.append(preds.detach().cpu().numpy())\n",
    "    feats_list.append(features['0'].cpu().numpy()) "
   ]
  },
  {
   "cell_type": "code",
   "execution_count": 16,
   "id": "062dfccc",
   "metadata": {},
   "outputs": [
    {
     "name": "stdout",
     "output_type": "stream",
     "text": [
      ">> check preds list lenght :  13\n",
      ">> check feature list lenght :  13\n",
      ">> check one feature arr shape :  (4, 1000)\n"
     ]
    }
   ],
   "source": [
    "print('>> check preds list lenght : ', len(preds_list))   \n",
    "print('>> check feature list lenght : ', len(feats_list)) \n",
    "\n",
    "print('>> check one feature arr shape : ', feats_list[0].shape)"
   ]
  },
  {
   "cell_type": "code",
   "execution_count": 17,
   "id": "40a3ee18",
   "metadata": {},
   "outputs": [
    {
     "name": "stdout",
     "output_type": "stream",
     "text": [
      "13\n"
     ]
    }
   ],
   "source": [
    "print(len(feats_list)) # 347"
   ]
  },
  {
   "cell_type": "code",
   "execution_count": 18,
   "id": "2826f040",
   "metadata": {},
   "outputs": [
    {
     "name": "stdout",
     "output_type": "stream",
     "text": [
      "(4, 1000)\n"
     ]
    }
   ],
   "source": [
    "print(feats_list[0].shape) # (4, 2048, 14, 14)"
   ]
  },
  {
   "cell_type": "code",
   "execution_count": 19,
   "id": "30eb3da2",
   "metadata": {},
   "outputs": [
    {
     "name": "stderr",
     "output_type": "stream",
     "text": [
      "13it [00:02,  5.20it/s]\n"
     ]
    }
   ],
   "source": [
    "# get 52th conv layer output feature \n",
    "from tqdm import tqdm\n",
    "\n",
    "preds_list_2 = list()\n",
    "feats_list_2 = list()\n",
    "\n",
    "for idx, (img, label) in tqdm(enumerate(dataloaders)) :\n",
    "    \n",
    "    img = img.to(device)\n",
    "    label = label.to(device)\n",
    "    \n",
    "    features = dict()\n",
    "    preds = net(img)\n",
    "    \n",
    "    preds_list_2.append(preds.detach().cpu().numpy())\n",
    "    feats_list_2.append(features['10'].cpu().numpy()) "
   ]
  },
  {
   "cell_type": "code",
   "execution_count": 20,
   "id": "5846e127",
   "metadata": {},
   "outputs": [
    {
     "name": "stdout",
     "output_type": "stream",
     "text": [
      "13\n"
     ]
    }
   ],
   "source": [
    "print(len(feats_list_2)) # 347 "
   ]
  },
  {
   "cell_type": "code",
   "execution_count": 21,
   "id": "adf841a7",
   "metadata": {},
   "outputs": [
    {
     "name": "stdout",
     "output_type": "stream",
     "text": [
      "(4, 64, 112, 112)\n"
     ]
    }
   ],
   "source": [
    "print(feats_list_2[0].shape) # (4, 512, 56, 56)"
   ]
  },
  {
   "cell_type": "code",
   "execution_count": 22,
   "id": "ee22efdc",
   "metadata": {},
   "outputs": [
    {
     "data": {
      "text/plain": [
       "642"
      ]
     },
     "execution_count": 22,
     "metadata": {},
     "output_type": "execute_result"
    }
   ],
   "source": [
    "# residual memory\n",
    "gc.collect()"
   ]
  },
  {
   "cell_type": "code",
   "execution_count": 28,
   "id": "9a62c450",
   "metadata": {},
   "outputs": [],
   "source": [
    "features = np.ones((50,64,1000), dtype='float32')\n",
    "features_2 = np.ones((50,64,112,112), dtype='float32')"
   ]
  },
  {
   "cell_type": "code",
   "execution_count": 29,
   "id": "77992853",
   "metadata": {},
   "outputs": [
    {
     "name": "stdout",
     "output_type": "stream",
     "text": [
      "-- check j value :  0\n",
      "-- check j value :  1\n",
      "-- check j value :  2\n",
      "-- check j value :  3\n",
      "-- check j value :  4\n",
      "-- check j value :  5\n",
      "-- check j value :  6\n",
      "-- check j value :  7\n",
      "-- check j value :  8\n",
      "-- check j value :  9\n",
      "-- check j value :  10\n",
      "-- check j value :  11\n",
      "-- check j value :  12\n",
      "- feats layer1 shape : (50, 64, 1000)\n"
     ]
    }
   ],
   "source": [
    "count = 0\n",
    "\n",
    "for j in range(len(feats_list)) :\n",
    "    print(\"-- check j value : \", j)\n",
    "    for k in range(feats_list[j].shape[0]) :\n",
    "        #temp = feats_list[j][k].astype(np.float16)\n",
    "        features[count] = feats_list[j][k]\n",
    "        count += 1\n",
    "\n",
    "print('- feats layer1 shape :', features.shape)"
   ]
  },
  {
   "cell_type": "code",
   "execution_count": 30,
   "id": "4eb26aa2",
   "metadata": {},
   "outputs": [
    {
     "name": "stdout",
     "output_type": "stream",
     "text": [
      "-- check j value :  0\n",
      "-- check j value :  1\n",
      "-- check j value :  2\n",
      "-- check j value :  3\n",
      "-- check j value :  4\n",
      "-- check j value :  5\n",
      "-- check j value :  6\n",
      "-- check j value :  7\n",
      "-- check j value :  8\n",
      "-- check j value :  9\n",
      "-- check j value :  10\n",
      "-- check j value :  11\n",
      "-- check j value :  12\n",
      "- feats layer2 shape : (50, 64, 112, 112)\n"
     ]
    }
   ],
   "source": [
    "count = 0 \n",
    "\n",
    "for j in range(len(feats_list_2)) :\n",
    "    print('-- check j value : ', j)\n",
    "    for k in range(feats_list_2[j].shape[0]) :\n",
    "        #temp = feats_list_2[j][k].astype(np.float16)\n",
    "        features_2[count] = feats_list_2[j][k] #temp\n",
    "        count +=1\n",
    "        \n",
    "print('- feats layer2 shape :', features_2.shape)"
   ]
  },
  {
   "cell_type": "code",
   "execution_count": 31,
   "id": "ebd5bb4b",
   "metadata": {},
   "outputs": [
    {
     "name": "stdout",
     "output_type": "stream",
     "text": [
      ">> check activation A shape :  (50, 64000)\n",
      ">> check activation B shape : (50, 802816)\n"
     ]
    }
   ],
   "source": [
    "shape = features.shape\n",
    "activationA = np.reshape(features, newshape=(shape[0], np.prod(shape[1:])))\n",
    "\n",
    "shape = features_2.shape\n",
    "activationB = np.reshape(features_2, newshape=(shape[0], np.prod(shape[1:])))\n",
    "\n",
    "print('>> check activation A shape : ', activationA.shape) # (# of examples, features)\n",
    "print('>> check activation B shape :', activationB.shape)  # (# of examples, features)"
   ]
  },
  {
   "cell_type": "code",
   "execution_count": 32,
   "id": "ffcc6790",
   "metadata": {},
   "outputs": [
    {
     "name": "stdout",
     "output_type": "stream",
     "text": [
      "CKA: 0.36772091038003313\n",
      ">> duration time :  0.41011929512023926\n"
     ]
    }
   ],
   "source": [
    "# pinrt CKA output\n",
    "import time\n",
    "\n",
    "start_time = time.time()\n",
    "\n",
    "print('CKA: {}'.format(kernel_CKA(activationA, activationB)))\n",
    "print('>> duration time : ', time.time() - start_time ) "
   ]
  },
  {
   "cell_type": "code",
   "execution_count": null,
   "id": "16d522f3",
   "metadata": {},
   "outputs": [],
   "source": []
  },
  {
   "cell_type": "code",
   "execution_count": null,
   "id": "614be6da",
   "metadata": {},
   "outputs": [],
   "source": []
  },
  {
   "cell_type": "code",
   "execution_count": null,
   "id": "466bc546",
   "metadata": {},
   "outputs": [],
   "source": []
  },
  {
   "cell_type": "code",
   "execution_count": null,
   "id": "51da89ba",
   "metadata": {},
   "outputs": [],
   "source": []
  },
  {
   "cell_type": "markdown",
   "id": "d4969d43",
   "metadata": {},
   "source": [
    "### #2. Check Layerwise CKA "
   ]
  },
  {
   "cell_type": "code",
   "execution_count": 18,
   "id": "e88a7875",
   "metadata": {},
   "outputs": [
    {
     "data": {
      "text/plain": [
       "_IncompatibleKeys(missing_keys=['fc.weight', 'fc.bias'], unexpected_keys=['fc.0.weight', 'fc.0.bias'])"
      ]
     },
     "execution_count": 18,
     "metadata": {},
     "output_type": "execute_result"
    }
   ],
   "source": [
    "# First model\n",
    "net1 = resnet50(pretrained = False)\n",
    "best_checkpoint = 'models_activations/socarvision_Upstream/upstream/resnet50_acc91_stanfordcar_pretrain_true.pth'\n",
    "if \"stanford\" in best_checkpoint :\n",
    "    in_features = net1.fc.in_features\n",
    "    net1.fc = nn.Linear(\n",
    "        in_features, \n",
    "        196\n",
    "    )\n",
    "elif \"rot\" in best_checkpoint :\n",
    "    in_features = net1.fc.in_features\n",
    "    net1.fc = nn.Linear(\n",
    "        in_features, \n",
    "        4\n",
    "    )\n",
    "elif \"byol\" in best_checkpoint :\n",
    "    in_features = net1.fc.in_features\n",
    "    \n",
    "net1.load_state_dict(torch.load(best_checkpoint, map_location=device), strict = False)\n",
    "    \n",
    "\n",
    "# Second model\n",
    "net2 = resnet50(pretrained = False)\n",
    "best_checkpoint = 'models_activations/socarvision_Upstream/upstream/2class_resnet50_acc90_rotnet_pretrain_true.pth'\n",
    "if \"stanford\" in best_checkpoint :\n",
    "    in_features = net2.fc.in_features\n",
    "    net2.fc = nn.Linear(\n",
    "        in_features, \n",
    "        196\n",
    "    )\n",
    "elif \"rot\" in best_checkpoint :\n",
    "    in_features = net2.fc.in_features\n",
    "    net2.fc = nn.Linear(\n",
    "        in_features, \n",
    "        4\n",
    "    )\n",
    "elif \"byol\" in best_checkpoint :\n",
    "    in_features = net2.fc.in_features\n",
    "net2.load_state_dict(torch.load(best_checkpoint, map_location=device), strict = False)"
   ]
  },
  {
   "cell_type": "code",
   "execution_count": 8,
   "id": "859d49f8",
   "metadata": {},
   "outputs": [],
   "source": [
    "net1 = net1.to(device)\n",
    "net1 = net1.eval()\n",
    "\n",
    "net2 = net2.to(device)\n",
    "net2 = net2.eval()"
   ]
  },
  {
   "cell_type": "code",
   "execution_count": 11,
   "id": "d48ffab0",
   "metadata": {},
   "outputs": [
    {
     "name": "stdout",
     "output_type": "stream",
     "text": [
      ">> check layer name :  Conv2d(3, 64, kernel_size=(7, 7), stride=(2, 2), padding=(3, 3), bias=False)\n",
      ">> check layer name :  Conv2d(64, 64, kernel_size=(1, 1), stride=(1, 1), bias=False)\n",
      ">> check layer name :  Conv2d(64, 64, kernel_size=(3, 3), stride=(1, 1), padding=(1, 1), bias=False)\n",
      ">> check layer name :  Conv2d(64, 256, kernel_size=(1, 1), stride=(1, 1), bias=False)\n",
      ">> check layer name :  Conv2d(256, 64, kernel_size=(1, 1), stride=(1, 1), bias=False)\n",
      ">> check layer name :  Conv2d(64, 64, kernel_size=(3, 3), stride=(1, 1), padding=(1, 1), bias=False)\n",
      ">> check layer name :  Conv2d(64, 256, kernel_size=(1, 1), stride=(1, 1), bias=False)\n",
      ">> check layer name :  Conv2d(256, 64, kernel_size=(1, 1), stride=(1, 1), bias=False)\n",
      ">> check layer name :  Conv2d(64, 64, kernel_size=(3, 3), stride=(1, 1), padding=(1, 1), bias=False)\n",
      ">> check layer name :  Conv2d(64, 256, kernel_size=(1, 1), stride=(1, 1), bias=False)\n",
      ">> check layer name :  Conv2d(256, 128, kernel_size=(1, 1), stride=(1, 1), bias=False)\n",
      ">> check layer name :  Conv2d(128, 128, kernel_size=(3, 3), stride=(2, 2), padding=(1, 1), bias=False)\n",
      ">> check layer name :  Conv2d(256, 512, kernel_size=(1, 1), stride=(2, 2), bias=False)\n",
      ">> check layer name :  Conv2d(512, 128, kernel_size=(1, 1), stride=(1, 1), bias=False)\n",
      ">> check layer name :  Conv2d(128, 128, kernel_size=(3, 3), stride=(1, 1), padding=(1, 1), bias=False)\n",
      ">> check layer name :  Conv2d(128, 512, kernel_size=(1, 1), stride=(1, 1), bias=False)\n",
      ">> check layer name :  Conv2d(512, 128, kernel_size=(1, 1), stride=(1, 1), bias=False)\n",
      ">> check layer name :  Conv2d(128, 128, kernel_size=(3, 3), stride=(1, 1), padding=(1, 1), bias=False)\n",
      ">> check layer name :  Conv2d(128, 512, kernel_size=(1, 1), stride=(1, 1), bias=False)\n",
      ">> check layer name :  Conv2d(512, 128, kernel_size=(1, 1), stride=(1, 1), bias=False)\n",
      ">> check layer name :  Conv2d(128, 128, kernel_size=(3, 3), stride=(1, 1), padding=(1, 1), bias=False)\n",
      ">> check layer name :  Conv2d(128, 512, kernel_size=(1, 1), stride=(1, 1), bias=False)\n",
      ">> check layer name :  Conv2d(512, 256, kernel_size=(1, 1), stride=(1, 1), bias=False)\n",
      ">> check layer name :  Conv2d(256, 256, kernel_size=(3, 3), stride=(2, 2), padding=(1, 1), bias=False)\n",
      ">> check layer name :  Conv2d(512, 1024, kernel_size=(1, 1), stride=(2, 2), bias=False)\n",
      ">> check layer name :  Conv2d(1024, 256, kernel_size=(1, 1), stride=(1, 1), bias=False)\n",
      ">> check layer name :  Conv2d(256, 256, kernel_size=(3, 3), stride=(1, 1), padding=(1, 1), bias=False)\n",
      ">> check layer name :  Conv2d(256, 1024, kernel_size=(1, 1), stride=(1, 1), bias=False)\n",
      ">> check layer name :  Conv2d(1024, 256, kernel_size=(1, 1), stride=(1, 1), bias=False)\n",
      ">> check layer name :  Conv2d(256, 256, kernel_size=(3, 3), stride=(1, 1), padding=(1, 1), bias=False)\n",
      ">> check layer name :  Conv2d(256, 1024, kernel_size=(1, 1), stride=(1, 1), bias=False)\n",
      ">> check layer name :  Conv2d(1024, 256, kernel_size=(1, 1), stride=(1, 1), bias=False)\n",
      ">> check layer name :  Conv2d(256, 256, kernel_size=(3, 3), stride=(1, 1), padding=(1, 1), bias=False)\n",
      ">> check layer name :  Conv2d(256, 1024, kernel_size=(1, 1), stride=(1, 1), bias=False)\n",
      ">> check layer name :  Conv2d(1024, 256, kernel_size=(1, 1), stride=(1, 1), bias=False)\n",
      ">> check layer name :  Conv2d(256, 256, kernel_size=(3, 3), stride=(1, 1), padding=(1, 1), bias=False)\n",
      ">> check layer name :  Conv2d(256, 1024, kernel_size=(1, 1), stride=(1, 1), bias=False)\n",
      ">> check layer name :  Conv2d(1024, 256, kernel_size=(1, 1), stride=(1, 1), bias=False)\n",
      ">> check layer name :  Conv2d(256, 256, kernel_size=(3, 3), stride=(1, 1), padding=(1, 1), bias=False)\n",
      ">> check layer name :  Conv2d(256, 1024, kernel_size=(1, 1), stride=(1, 1), bias=False)\n",
      ">> check layer name :  Conv2d(1024, 512, kernel_size=(1, 1), stride=(1, 1), bias=False)\n",
      ">> check layer name :  Conv2d(512, 512, kernel_size=(3, 3), stride=(2, 2), padding=(1, 1), bias=False)\n",
      ">> check layer name :  Conv2d(1024, 2048, kernel_size=(1, 1), stride=(2, 2), bias=False)\n",
      ">> check layer name :  Conv2d(2048, 512, kernel_size=(1, 1), stride=(1, 1), bias=False)\n",
      ">> check layer name :  Conv2d(512, 512, kernel_size=(3, 3), stride=(1, 1), padding=(1, 1), bias=False)\n",
      ">> check layer name :  Conv2d(512, 2048, kernel_size=(1, 1), stride=(1, 1), bias=False)\n",
      ">> check layer name :  Conv2d(2048, 512, kernel_size=(1, 1), stride=(1, 1), bias=False)\n",
      ">> check layer name :  Conv2d(512, 512, kernel_size=(3, 3), stride=(1, 1), padding=(1, 1), bias=False)\n",
      ">> check layer name :  Conv2d(512, 2048, kernel_size=(1, 1), stride=(1, 1), bias=False)\n",
      ">> check layer number :  50\n"
     ]
    }
   ],
   "source": [
    "# net1's register hook\n",
    "count = 0       \n",
    "local_count = 0  \n",
    "global_count = 0 #\n",
    "\n",
    "layer_name_list = list()\n",
    "\n",
    "def get_features(name):\n",
    "    def hook(model, input, output):\n",
    "        features[name] = output.detach()\n",
    "    return hook\n",
    "\n",
    "for layer in net1.modules() :\n",
    "\n",
    "    if global_count == 1 : \n",
    "        layer_name_list.append(layer)\n",
    "        layer.register_forward_hook(get_features(str(count)))\n",
    "\n",
    "    if isinstance(layer, torch.nn.modules.conv.Conv2d) :\n",
    "        count += 1\n",
    "        if count != 4 and count != 14 and count !=27 and count != 46 :\n",
    "            print('>> check layer name : ', layer)\n",
    "            layer_name_list.append(layer)\n",
    "\n",
    "            layer.register_forward_hook(get_features(str(local_count)))\n",
    "            local_count += 1\n",
    "    global_count += 1\n",
    "    \n",
    "        \n",
    "print('>> check layer number : ', len(layer_name_list))"
   ]
  },
  {
   "cell_type": "code",
   "execution_count": 13,
   "id": "3d2a89c4",
   "metadata": {},
   "outputs": [
    {
     "name": "stdout",
     "output_type": "stream",
     "text": [
      "Staring with 0th layer, total 53 layers\n"
     ]
    },
    {
     "name": "stderr",
     "output_type": "stream",
     "text": [
      "13it [00:01,  7.00it/s]\n"
     ]
    },
    {
     "name": "stdout",
     "output_type": "stream",
     "text": [
      ">> check array shape :  (4, 64, 224, 224)\n",
      "- feats layer shape : (50, 64, 224, 224) in layer 0\n",
      "Staring with 1th layer, total 53 layers\n"
     ]
    },
    {
     "name": "stderr",
     "output_type": "stream",
     "text": [
      "13it [00:01,  6.91it/s]"
     ]
    },
    {
     "name": "stdout",
     "output_type": "stream",
     "text": [
      ">> check array shape :  (4, 64, 112, 112)\n",
      "- feats layer shape : (50, 64, 112, 112) in layer 1\n",
      "Staring with 2th layer, total 53 layers\n"
     ]
    },
    {
     "name": "stderr",
     "output_type": "stream",
     "text": [
      "\n",
      "13it [00:01,  7.48it/s]"
     ]
    },
    {
     "name": "stdout",
     "output_type": "stream",
     "text": [
      ">> check array shape :  (4, 64, 112, 112)\n",
      "- feats layer shape : (50, 64, 112, 112) in layer 2\n",
      "Staring with 3th layer, total 53 layers\n"
     ]
    },
    {
     "name": "stderr",
     "output_type": "stream",
     "text": [
      "\n",
      "13it [00:02,  6.14it/s]\n"
     ]
    },
    {
     "name": "stdout",
     "output_type": "stream",
     "text": [
      ">> check array shape :  (4, 256, 112, 112)\n",
      "- feats layer shape : (50, 256, 112, 112) in layer 3\n",
      "Staring with 4th layer, total 53 layers\n"
     ]
    },
    {
     "name": "stderr",
     "output_type": "stream",
     "text": [
      "13it [00:01,  7.17it/s]"
     ]
    },
    {
     "name": "stdout",
     "output_type": "stream",
     "text": [
      ">> check array shape :  (4, 64, 112, 112)\n",
      "- feats layer shape : (50, 64, 112, 112) in layer 4\n",
      "Staring with 5th layer, total 53 layers\n"
     ]
    },
    {
     "name": "stderr",
     "output_type": "stream",
     "text": [
      "\n",
      "13it [00:02,  6.38it/s]"
     ]
    },
    {
     "name": "stdout",
     "output_type": "stream",
     "text": [
      ">> check array shape :  (4, 64, 112, 112)\n",
      "- feats layer shape : (50, 64, 112, 112) in layer 5\n",
      "Staring with 6th layer, total 53 layers\n"
     ]
    },
    {
     "name": "stderr",
     "output_type": "stream",
     "text": [
      "\n",
      "13it [00:01,  7.38it/s]\n"
     ]
    },
    {
     "name": "stdout",
     "output_type": "stream",
     "text": [
      ">> check array shape :  (4, 256, 112, 112)\n",
      "- feats layer shape : (50, 256, 112, 112) in layer 6\n",
      "Staring with 7th layer, total 53 layers\n"
     ]
    },
    {
     "name": "stderr",
     "output_type": "stream",
     "text": [
      "13it [00:01,  7.02it/s]"
     ]
    },
    {
     "name": "stdout",
     "output_type": "stream",
     "text": [
      ">> check array shape :  (4, 64, 112, 112)\n",
      "- feats layer shape : (50, 64, 112, 112) in layer 7\n",
      "Staring with 8th layer, total 53 layers\n"
     ]
    },
    {
     "name": "stderr",
     "output_type": "stream",
     "text": [
      "\n",
      "13it [00:01,  6.50it/s]"
     ]
    },
    {
     "name": "stdout",
     "output_type": "stream",
     "text": [
      ">> check array shape :  (4, 64, 112, 112)\n",
      "- feats layer shape : (50, 64, 112, 112) in layer 8\n",
      "Staring with 9th layer, total 53 layers\n"
     ]
    },
    {
     "name": "stderr",
     "output_type": "stream",
     "text": [
      "\n",
      "13it [00:01,  6.80it/s]\n"
     ]
    },
    {
     "name": "stdout",
     "output_type": "stream",
     "text": [
      ">> check array shape :  (4, 256, 112, 112)\n",
      "- feats layer shape : (50, 256, 112, 112) in layer 9\n",
      "Staring with 10th layer, total 53 layers\n"
     ]
    },
    {
     "name": "stderr",
     "output_type": "stream",
     "text": [
      "13it [00:02,  6.40it/s]"
     ]
    },
    {
     "name": "stdout",
     "output_type": "stream",
     "text": [
      ">> check array shape :  (4, 128, 112, 112)\n",
      "- feats layer shape : (50, 128, 112, 112) in layer 10\n",
      "Staring with 11th layer, total 53 layers\n"
     ]
    },
    {
     "name": "stderr",
     "output_type": "stream",
     "text": [
      "\n",
      "13it [00:01,  7.04it/s]"
     ]
    },
    {
     "name": "stdout",
     "output_type": "stream",
     "text": [
      ">> check array shape :  (4, 128, 56, 56)\n",
      "- feats layer shape : (50, 128, 56, 56) in layer 11\n",
      "Staring with 12th layer, total 53 layers\n"
     ]
    },
    {
     "name": "stderr",
     "output_type": "stream",
     "text": [
      "\n",
      "13it [00:01,  7.61it/s]"
     ]
    },
    {
     "name": "stdout",
     "output_type": "stream",
     "text": [
      ">> check array shape :  (4, 512, 56, 56)\n",
      "- feats layer shape : (50, 512, 56, 56) in layer 12\n",
      "Staring with 13th layer, total 53 layers\n"
     ]
    },
    {
     "name": "stderr",
     "output_type": "stream",
     "text": [
      "\n",
      "13it [00:01,  6.68it/s]"
     ]
    },
    {
     "name": "stdout",
     "output_type": "stream",
     "text": [
      ">> check array shape :  (4, 128, 56, 56)\n",
      "- feats layer shape : (50, 128, 56, 56) in layer 13\n",
      "Staring with 14th layer, total 53 layers\n"
     ]
    },
    {
     "name": "stderr",
     "output_type": "stream",
     "text": [
      "\n",
      "13it [00:01,  6.90it/s]"
     ]
    },
    {
     "name": "stdout",
     "output_type": "stream",
     "text": [
      ">> check array shape :  (4, 128, 56, 56)\n",
      "- feats layer shape : (50, 128, 56, 56) in layer 14\n",
      "Staring with 15th layer, total 53 layers\n"
     ]
    },
    {
     "name": "stderr",
     "output_type": "stream",
     "text": [
      "\n",
      "13it [00:02,  6.13it/s]"
     ]
    },
    {
     "name": "stdout",
     "output_type": "stream",
     "text": [
      ">> check array shape :  (4, 512, 56, 56)\n",
      "- feats layer shape : (50, 512, 56, 56) in layer 15\n",
      "Staring with 16th layer, total 53 layers\n"
     ]
    },
    {
     "name": "stderr",
     "output_type": "stream",
     "text": [
      "\n",
      "13it [00:01,  7.32it/s]\n"
     ]
    },
    {
     "name": "stdout",
     "output_type": "stream",
     "text": [
      ">> check array shape :  (4, 128, 56, 56)\n",
      "- feats layer shape : (50, 128, 56, 56) in layer 16\n",
      "Staring with 17th layer, total 53 layers\n"
     ]
    },
    {
     "name": "stderr",
     "output_type": "stream",
     "text": [
      "13it [00:01,  6.84it/s]"
     ]
    },
    {
     "name": "stdout",
     "output_type": "stream",
     "text": [
      ">> check array shape :  (4, 128, 56, 56)\n",
      "- feats layer shape : (50, 128, 56, 56) in layer 17\n",
      "Staring with 18th layer, total 53 layers\n"
     ]
    },
    {
     "name": "stderr",
     "output_type": "stream",
     "text": [
      "\n",
      "13it [00:02,  6.49it/s]"
     ]
    },
    {
     "name": "stdout",
     "output_type": "stream",
     "text": [
      ">> check array shape :  (4, 512, 56, 56)\n",
      "- feats layer shape : (50, 512, 56, 56) in layer 18\n",
      "Staring with 19th layer, total 53 layers\n"
     ]
    },
    {
     "name": "stderr",
     "output_type": "stream",
     "text": [
      "\n",
      "13it [00:02,  6.21it/s]"
     ]
    },
    {
     "name": "stdout",
     "output_type": "stream",
     "text": [
      ">> check array shape :  (4, 128, 56, 56)\n",
      "- feats layer shape : (50, 128, 56, 56) in layer 19\n",
      "Staring with 20th layer, total 53 layers\n"
     ]
    },
    {
     "name": "stderr",
     "output_type": "stream",
     "text": [
      "\n",
      "13it [00:01,  7.47it/s]"
     ]
    },
    {
     "name": "stdout",
     "output_type": "stream",
     "text": [
      ">> check array shape :  (4, 128, 56, 56)\n",
      "- feats layer shape : (50, 128, 56, 56) in layer 20\n",
      "Staring with 21th layer, total 53 layers\n"
     ]
    },
    {
     "name": "stderr",
     "output_type": "stream",
     "text": [
      "\n",
      "13it [00:01,  6.86it/s]"
     ]
    },
    {
     "name": "stdout",
     "output_type": "stream",
     "text": [
      ">> check array shape :  (4, 512, 56, 56)\n",
      "- feats layer shape : (50, 512, 56, 56) in layer 21\n",
      "Staring with 22th layer, total 53 layers\n"
     ]
    },
    {
     "name": "stderr",
     "output_type": "stream",
     "text": [
      "\n",
      "13it [00:01,  7.29it/s]"
     ]
    },
    {
     "name": "stdout",
     "output_type": "stream",
     "text": [
      ">> check array shape :  (4, 256, 56, 56)\n",
      "- feats layer shape : (50, 256, 56, 56) in layer 22\n",
      "Staring with 23th layer, total 53 layers\n"
     ]
    },
    {
     "name": "stderr",
     "output_type": "stream",
     "text": [
      "\n",
      "13it [00:02,  6.45it/s]"
     ]
    },
    {
     "name": "stdout",
     "output_type": "stream",
     "text": [
      ">> check array shape :  (4, 256, 28, 28)\n",
      "- feats layer shape : (50, 256, 28, 28) in layer 23\n",
      "Staring with 24th layer, total 53 layers\n"
     ]
    },
    {
     "name": "stderr",
     "output_type": "stream",
     "text": [
      "\n",
      "13it [00:01,  6.76it/s]"
     ]
    },
    {
     "name": "stdout",
     "output_type": "stream",
     "text": [
      ">> check array shape :  (4, 1024, 28, 28)\n",
      "- feats layer shape : (50, 1024, 28, 28) in layer 24\n",
      "Staring with 25th layer, total 53 layers\n"
     ]
    },
    {
     "name": "stderr",
     "output_type": "stream",
     "text": [
      "\n",
      "13it [00:01,  6.92it/s]"
     ]
    },
    {
     "name": "stdout",
     "output_type": "stream",
     "text": [
      ">> check array shape :  (4, 256, 28, 28)\n",
      "- feats layer shape : (50, 256, 28, 28) in layer 25\n",
      "Staring with 26th layer, total 53 layers\n"
     ]
    },
    {
     "name": "stderr",
     "output_type": "stream",
     "text": [
      "\n",
      "13it [00:01,  7.54it/s]"
     ]
    },
    {
     "name": "stdout",
     "output_type": "stream",
     "text": [
      ">> check array shape :  (4, 256, 28, 28)\n",
      "- feats layer shape : (50, 256, 28, 28) in layer 26\n",
      "Staring with 27th layer, total 53 layers\n"
     ]
    },
    {
     "name": "stderr",
     "output_type": "stream",
     "text": [
      "\n",
      "13it [00:01,  6.92it/s]"
     ]
    },
    {
     "name": "stdout",
     "output_type": "stream",
     "text": [
      ">> check array shape :  (4, 1024, 28, 28)\n",
      "- feats layer shape : (50, 1024, 28, 28) in layer 27\n",
      "Staring with 28th layer, total 53 layers\n"
     ]
    },
    {
     "name": "stderr",
     "output_type": "stream",
     "text": [
      "\n",
      "13it [00:01,  6.67it/s]"
     ]
    },
    {
     "name": "stdout",
     "output_type": "stream",
     "text": [
      ">> check array shape :  (4, 256, 28, 28)\n",
      "- feats layer shape : (50, 256, 28, 28) in layer 28\n",
      "Staring with 29th layer, total 53 layers\n"
     ]
    },
    {
     "name": "stderr",
     "output_type": "stream",
     "text": [
      "\n",
      "13it [00:01,  6.56it/s]"
     ]
    },
    {
     "name": "stdout",
     "output_type": "stream",
     "text": [
      ">> check array shape :  (4, 256, 28, 28)\n",
      "- feats layer shape : (50, 256, 28, 28) in layer 29\n",
      "Staring with 30th layer, total 53 layers\n"
     ]
    },
    {
     "name": "stderr",
     "output_type": "stream",
     "text": [
      "\n",
      "13it [00:01,  6.78it/s]"
     ]
    },
    {
     "name": "stdout",
     "output_type": "stream",
     "text": [
      ">> check array shape :  (4, 1024, 28, 28)\n",
      "- feats layer shape : (50, 1024, 28, 28) in layer 30\n",
      "Staring with 31th layer, total 53 layers\n"
     ]
    },
    {
     "name": "stderr",
     "output_type": "stream",
     "text": [
      "\n",
      "13it [00:02,  6.33it/s]"
     ]
    },
    {
     "name": "stdout",
     "output_type": "stream",
     "text": [
      ">> check array shape :  (4, 256, 28, 28)\n",
      "- feats layer shape : (50, 256, 28, 28) in layer 31\n",
      "Staring with 32th layer, total 53 layers\n"
     ]
    },
    {
     "name": "stderr",
     "output_type": "stream",
     "text": [
      "\n",
      "13it [00:01,  6.74it/s]"
     ]
    },
    {
     "name": "stdout",
     "output_type": "stream",
     "text": [
      ">> check array shape :  (4, 256, 28, 28)\n",
      "- feats layer shape : (50, 256, 28, 28) in layer 32\n",
      "Staring with 33th layer, total 53 layers\n"
     ]
    },
    {
     "name": "stderr",
     "output_type": "stream",
     "text": [
      "\n",
      "13it [00:02,  6.37it/s]"
     ]
    },
    {
     "name": "stdout",
     "output_type": "stream",
     "text": [
      ">> check array shape :  (4, 1024, 28, 28)\n",
      "- feats layer shape : (50, 1024, 28, 28) in layer 33\n",
      "Staring with 34th layer, total 53 layers\n"
     ]
    },
    {
     "name": "stderr",
     "output_type": "stream",
     "text": [
      "\n",
      "13it [00:01,  7.48it/s]"
     ]
    },
    {
     "name": "stdout",
     "output_type": "stream",
     "text": [
      ">> check array shape :  (4, 256, 28, 28)\n",
      "- feats layer shape : (50, 256, 28, 28) in layer 34\n",
      "Staring with 35th layer, total 53 layers\n"
     ]
    },
    {
     "name": "stderr",
     "output_type": "stream",
     "text": [
      "\n",
      "13it [00:01,  6.76it/s]"
     ]
    },
    {
     "name": "stdout",
     "output_type": "stream",
     "text": [
      ">> check array shape :  (4, 256, 28, 28)\n",
      "- feats layer shape : (50, 256, 28, 28) in layer 35\n",
      "Staring with 36th layer, total 53 layers\n"
     ]
    },
    {
     "name": "stderr",
     "output_type": "stream",
     "text": [
      "\n",
      "13it [00:01,  7.04it/s]"
     ]
    },
    {
     "name": "stdout",
     "output_type": "stream",
     "text": [
      ">> check array shape :  (4, 1024, 28, 28)\n",
      "- feats layer shape : (50, 1024, 28, 28) in layer 36\n",
      "Staring with 37th layer, total 53 layers\n"
     ]
    },
    {
     "name": "stderr",
     "output_type": "stream",
     "text": [
      "\n",
      "13it [00:01,  7.45it/s]"
     ]
    },
    {
     "name": "stdout",
     "output_type": "stream",
     "text": [
      ">> check array shape :  (4, 256, 28, 28)\n",
      "- feats layer shape : (50, 256, 28, 28) in layer 37\n",
      "Staring with 38th layer, total 53 layers\n"
     ]
    },
    {
     "name": "stderr",
     "output_type": "stream",
     "text": [
      "\n",
      "13it [00:02,  6.06it/s]"
     ]
    },
    {
     "name": "stdout",
     "output_type": "stream",
     "text": [
      ">> check array shape :  (4, 256, 28, 28)\n",
      "- feats layer shape : (50, 256, 28, 28) in layer 38\n",
      "Staring with 39th layer, total 53 layers\n"
     ]
    },
    {
     "name": "stderr",
     "output_type": "stream",
     "text": [
      "\n",
      "13it [00:01,  6.79it/s]"
     ]
    },
    {
     "name": "stdout",
     "output_type": "stream",
     "text": [
      ">> check array shape :  (4, 1024, 28, 28)\n",
      "- feats layer shape : (50, 1024, 28, 28) in layer 39\n",
      "Staring with 40th layer, total 53 layers\n"
     ]
    },
    {
     "name": "stderr",
     "output_type": "stream",
     "text": [
      "\n",
      "13it [00:02,  5.97it/s]"
     ]
    },
    {
     "name": "stdout",
     "output_type": "stream",
     "text": [
      ">> check array shape :  (4, 512, 28, 28)\n",
      "- feats layer shape : (50, 512, 28, 28) in layer 40\n",
      "Staring with 41th layer, total 53 layers\n"
     ]
    },
    {
     "name": "stderr",
     "output_type": "stream",
     "text": [
      "\n",
      "13it [00:02,  6.12it/s]"
     ]
    },
    {
     "name": "stdout",
     "output_type": "stream",
     "text": [
      ">> check array shape :  (4, 512, 14, 14)\n",
      "- feats layer shape : (50, 512, 14, 14) in layer 41\n",
      "Staring with 42th layer, total 53 layers\n"
     ]
    },
    {
     "name": "stderr",
     "output_type": "stream",
     "text": [
      "\n",
      "13it [00:02,  6.22it/s]"
     ]
    },
    {
     "name": "stdout",
     "output_type": "stream",
     "text": [
      ">> check array shape :  (4, 2048, 14, 14)\n",
      "- feats layer shape : (50, 2048, 14, 14) in layer 42\n",
      "Staring with 43th layer, total 53 layers\n"
     ]
    },
    {
     "name": "stderr",
     "output_type": "stream",
     "text": [
      "\n",
      "13it [00:01,  6.59it/s]"
     ]
    },
    {
     "name": "stdout",
     "output_type": "stream",
     "text": [
      ">> check array shape :  (4, 512, 14, 14)\n",
      "- feats layer shape : (50, 512, 14, 14) in layer 43\n",
      "Staring with 44th layer, total 53 layers\n"
     ]
    },
    {
     "name": "stderr",
     "output_type": "stream",
     "text": [
      "\n",
      "13it [00:01,  7.05it/s]"
     ]
    },
    {
     "name": "stdout",
     "output_type": "stream",
     "text": [
      ">> check array shape :  (4, 512, 14, 14)\n",
      "- feats layer shape : (50, 512, 14, 14) in layer 44\n",
      "Staring with 45th layer, total 53 layers\n"
     ]
    },
    {
     "name": "stderr",
     "output_type": "stream",
     "text": [
      "\n",
      "13it [00:01,  6.95it/s]"
     ]
    },
    {
     "name": "stdout",
     "output_type": "stream",
     "text": [
      ">> check array shape :  (4, 2048, 14, 14)\n",
      "- feats layer shape : (50, 2048, 14, 14) in layer 45\n",
      "Staring with 46th layer, total 53 layers\n"
     ]
    },
    {
     "name": "stderr",
     "output_type": "stream",
     "text": [
      "\n",
      "13it [00:01,  6.59it/s]"
     ]
    },
    {
     "name": "stdout",
     "output_type": "stream",
     "text": [
      ">> check array shape :  (4, 512, 14, 14)\n",
      "- feats layer shape : (50, 512, 14, 14) in layer 46\n",
      "Staring with 47th layer, total 53 layers\n"
     ]
    },
    {
     "name": "stderr",
     "output_type": "stream",
     "text": [
      "\n",
      "13it [00:01,  6.74it/s]"
     ]
    },
    {
     "name": "stdout",
     "output_type": "stream",
     "text": [
      ">> check array shape :  (4, 512, 14, 14)\n",
      "- feats layer shape : (50, 512, 14, 14) in layer 47\n",
      "Staring with 48th layer, total 53 layers\n"
     ]
    },
    {
     "name": "stderr",
     "output_type": "stream",
     "text": [
      "\n",
      "13it [00:02,  6.35it/s]"
     ]
    },
    {
     "name": "stdout",
     "output_type": "stream",
     "text": [
      ">> check array shape :  (4, 2048, 14, 14)\n",
      "- feats layer shape : (50, 2048, 14, 14) in layer 48\n",
      "Staring with 49th layer, total 53 layers\n"
     ]
    },
    {
     "name": "stderr",
     "output_type": "stream",
     "text": [
      "\n",
      "13it [00:02,  6.28it/s]"
     ]
    },
    {
     "name": "stdout",
     "output_type": "stream",
     "text": [
      ">> check array shape :  (4, 512, 14, 14)\n",
      "- feats layer shape : (50, 512, 14, 14) in layer 49\n",
      "-- durting time :  106.6826241016388\n"
     ]
    },
    {
     "name": "stderr",
     "output_type": "stream",
     "text": [
      "\n"
     ]
    }
   ],
   "source": [
    "import time\n",
    "from tqdm import tqdm\n",
    "\n",
    "start_time = time.time()\n",
    "features_list = list() \n",
    "\n",
    "for i in range(len(layer_name_list)) :\n",
    "    print(f'Staring with {i}th layer, total 50 layers')\n",
    "\n",
    "    preds_all_list = list()\n",
    "    feats_all_list = list()\n",
    "\n",
    "    for idx, (img, label) in tqdm(enumerate(dataloaders)) :\n",
    "        img = img.to(device)\n",
    "        label = label.to(device)\n",
    "\n",
    "        features = dict()\n",
    "        preds = net1(img)\n",
    "    \n",
    "        preds_all_list.append(preds.detach().cpu().numpy())\n",
    "        feats_all_list.append(features[str(i)].cpu().numpy()) \n",
    "\n",
    "    features = np.empty((50,feats_all_list[0].shape[1] ,feats_all_list[0].shape[2] ,feats_all_list[0].shape[3]), dtype='float32')\n",
    "    \n",
    "    print('>> check array shape : ', feats_all_list[0].shape)\n",
    "    \n",
    "    count = 0\n",
    "    for j in range(len(feats_all_list)) :\n",
    "        for k in range(feats_all_list[j].shape[0]) :\n",
    "            #temp = feats_all_list[j][k].astype(np.float16)\n",
    "            features[count] = feats_all_list[j][k]\n",
    "            count += 1\n",
    "    \n",
    "    features_list.append(features)\n",
    "    print('- feats layer shape :', features.shape, f'in layer {i}')\n",
    "\n",
    "print('-- durting time : ', time.time() - start_time)"
   ]
  },
  {
   "cell_type": "code",
   "execution_count": 14,
   "id": "6e401b93",
   "metadata": {},
   "outputs": [
    {
     "data": {
      "text/plain": [
       "896"
      ]
     },
     "execution_count": 14,
     "metadata": {},
     "output_type": "execute_result"
    }
   ],
   "source": [
    "# residual memory\n",
    "gc.collect()"
   ]
  },
  {
   "cell_type": "code",
   "execution_count": 16,
   "id": "e93c52e9",
   "metadata": {},
   "outputs": [
    {
     "name": "stdout",
     "output_type": "stream",
     "text": [
      ">> check layer name :  Conv2d(3, 64, kernel_size=(7, 7), stride=(2, 2), padding=(3, 3), bias=False)\n",
      ">> check layer name :  Conv2d(64, 64, kernel_size=(1, 1), stride=(1, 1), bias=False)\n",
      ">> check layer name :  Conv2d(64, 64, kernel_size=(3, 3), stride=(1, 1), padding=(1, 1), bias=False)\n",
      ">> check layer name :  Conv2d(64, 256, kernel_size=(1, 1), stride=(1, 1), bias=False)\n",
      ">> check layer name :  Conv2d(256, 64, kernel_size=(1, 1), stride=(1, 1), bias=False)\n",
      ">> check layer name :  Conv2d(64, 64, kernel_size=(3, 3), stride=(1, 1), padding=(1, 1), bias=False)\n",
      ">> check layer name :  Conv2d(64, 256, kernel_size=(1, 1), stride=(1, 1), bias=False)\n",
      ">> check layer name :  Conv2d(256, 64, kernel_size=(1, 1), stride=(1, 1), bias=False)\n",
      ">> check layer name :  Conv2d(64, 64, kernel_size=(3, 3), stride=(1, 1), padding=(1, 1), bias=False)\n",
      ">> check layer name :  Conv2d(64, 256, kernel_size=(1, 1), stride=(1, 1), bias=False)\n",
      ">> check layer name :  Conv2d(256, 128, kernel_size=(1, 1), stride=(1, 1), bias=False)\n",
      ">> check layer name :  Conv2d(128, 128, kernel_size=(3, 3), stride=(2, 2), padding=(1, 1), bias=False)\n",
      ">> check layer name :  Conv2d(256, 512, kernel_size=(1, 1), stride=(2, 2), bias=False)\n",
      ">> check layer name :  Conv2d(512, 128, kernel_size=(1, 1), stride=(1, 1), bias=False)\n",
      ">> check layer name :  Conv2d(128, 128, kernel_size=(3, 3), stride=(1, 1), padding=(1, 1), bias=False)\n",
      ">> check layer name :  Conv2d(128, 512, kernel_size=(1, 1), stride=(1, 1), bias=False)\n",
      ">> check layer name :  Conv2d(512, 128, kernel_size=(1, 1), stride=(1, 1), bias=False)\n",
      ">> check layer name :  Conv2d(128, 128, kernel_size=(3, 3), stride=(1, 1), padding=(1, 1), bias=False)\n",
      ">> check layer name :  Conv2d(128, 512, kernel_size=(1, 1), stride=(1, 1), bias=False)\n",
      ">> check layer name :  Conv2d(512, 128, kernel_size=(1, 1), stride=(1, 1), bias=False)\n",
      ">> check layer name :  Conv2d(128, 128, kernel_size=(3, 3), stride=(1, 1), padding=(1, 1), bias=False)\n",
      ">> check layer name :  Conv2d(128, 512, kernel_size=(1, 1), stride=(1, 1), bias=False)\n",
      ">> check layer name :  Conv2d(512, 256, kernel_size=(1, 1), stride=(1, 1), bias=False)\n",
      ">> check layer name :  Conv2d(256, 256, kernel_size=(3, 3), stride=(2, 2), padding=(1, 1), bias=False)\n",
      ">> check layer name :  Conv2d(512, 1024, kernel_size=(1, 1), stride=(2, 2), bias=False)\n",
      ">> check layer name :  Conv2d(1024, 256, kernel_size=(1, 1), stride=(1, 1), bias=False)\n",
      ">> check layer name :  Conv2d(256, 256, kernel_size=(3, 3), stride=(1, 1), padding=(1, 1), bias=False)\n",
      ">> check layer name :  Conv2d(256, 1024, kernel_size=(1, 1), stride=(1, 1), bias=False)\n",
      ">> check layer name :  Conv2d(1024, 256, kernel_size=(1, 1), stride=(1, 1), bias=False)\n",
      ">> check layer name :  Conv2d(256, 256, kernel_size=(3, 3), stride=(1, 1), padding=(1, 1), bias=False)\n",
      ">> check layer name :  Conv2d(256, 1024, kernel_size=(1, 1), stride=(1, 1), bias=False)\n",
      ">> check layer name :  Conv2d(1024, 256, kernel_size=(1, 1), stride=(1, 1), bias=False)\n",
      ">> check layer name :  Conv2d(256, 256, kernel_size=(3, 3), stride=(1, 1), padding=(1, 1), bias=False)\n",
      ">> check layer name :  Conv2d(256, 1024, kernel_size=(1, 1), stride=(1, 1), bias=False)\n",
      ">> check layer name :  Conv2d(1024, 256, kernel_size=(1, 1), stride=(1, 1), bias=False)\n",
      ">> check layer name :  Conv2d(256, 256, kernel_size=(3, 3), stride=(1, 1), padding=(1, 1), bias=False)\n",
      ">> check layer name :  Conv2d(256, 1024, kernel_size=(1, 1), stride=(1, 1), bias=False)\n",
      ">> check layer name :  Conv2d(1024, 256, kernel_size=(1, 1), stride=(1, 1), bias=False)\n",
      ">> check layer name :  Conv2d(256, 256, kernel_size=(3, 3), stride=(1, 1), padding=(1, 1), bias=False)\n",
      ">> check layer name :  Conv2d(256, 1024, kernel_size=(1, 1), stride=(1, 1), bias=False)\n",
      ">> check layer name :  Conv2d(1024, 512, kernel_size=(1, 1), stride=(1, 1), bias=False)\n",
      ">> check layer name :  Conv2d(512, 512, kernel_size=(3, 3), stride=(2, 2), padding=(1, 1), bias=False)\n",
      ">> check layer name :  Conv2d(1024, 2048, kernel_size=(1, 1), stride=(2, 2), bias=False)\n",
      ">> check layer name :  Conv2d(2048, 512, kernel_size=(1, 1), stride=(1, 1), bias=False)\n",
      ">> check layer name :  Conv2d(512, 512, kernel_size=(3, 3), stride=(1, 1), padding=(1, 1), bias=False)\n",
      ">> check layer name :  Conv2d(512, 2048, kernel_size=(1, 1), stride=(1, 1), bias=False)\n",
      ">> check layer name :  Conv2d(2048, 512, kernel_size=(1, 1), stride=(1, 1), bias=False)\n",
      ">> check layer name :  Conv2d(512, 512, kernel_size=(3, 3), stride=(1, 1), padding=(1, 1), bias=False)\n",
      ">> check layer name :  Conv2d(512, 2048, kernel_size=(1, 1), stride=(1, 1), bias=False)\n",
      ">> check layer number :  50\n"
     ]
    }
   ],
   "source": [
    "# net2's register hook\n",
    "\n",
    "count = 0        \n",
    "local_count = 0  \n",
    "global_count = 0 \n",
    "\n",
    "layer_name_list_2 = list() \n",
    "\n",
    "def get_features(name):\n",
    "    def hook(model, input, output):\n",
    "        features[name] = output.detach()\n",
    "    return hook\n",
    "\n",
    "for layer in net2.modules() :\n",
    "\n",
    "    if global_count == 1 : \n",
    "        layer_name_list_2.append(layer)\n",
    "        layer.register_forward_hook(get_features(str(count)))\n",
    "\n",
    "    if isinstance(layer, torch.nn.modules.conv.Conv2d) :\n",
    "        count += 1\n",
    "        if count != 4 and count != 14 and count !=27 and count != 46 :\n",
    "            print('>> check layer name : ', layer)\n",
    "            layer_name_list_2.append(layer)\n",
    "        \n",
    "            layer.register_forward_hook(get_features(str(local_count)))\n",
    "            local_count += 1\n",
    "    global_count += 1\n",
    "        \n",
    "print('>> check layer number : ', len(layer_name_list_2))"
   ]
  },
  {
   "cell_type": "code",
   "execution_count": 17,
   "id": "761046c1",
   "metadata": {},
   "outputs": [
    {
     "name": "stdout",
     "output_type": "stream",
     "text": [
      "Staring with 0th layer, total 50 layers\n"
     ]
    },
    {
     "name": "stderr",
     "output_type": "stream",
     "text": [
      "13it [00:01,  6.60it/s]\n"
     ]
    },
    {
     "name": "stdout",
     "output_type": "stream",
     "text": [
      ">> check array shape :  (4, 64, 224, 224)\n",
      "- feats layer shape : (50, 64, 224, 224) in layer 0\n",
      "Staring with 1th layer, total 50 layers\n"
     ]
    },
    {
     "name": "stderr",
     "output_type": "stream",
     "text": [
      "13it [00:02,  6.43it/s]"
     ]
    },
    {
     "name": "stdout",
     "output_type": "stream",
     "text": [
      ">> check array shape :  (4, 64, 112, 112)\n",
      "- feats layer shape : (50, 64, 112, 112) in layer 1\n",
      "Staring with 2th layer, total 50 layers\n"
     ]
    },
    {
     "name": "stderr",
     "output_type": "stream",
     "text": [
      "\n",
      "13it [00:02,  6.41it/s]"
     ]
    },
    {
     "name": "stdout",
     "output_type": "stream",
     "text": [
      ">> check array shape :  (4, 64, 112, 112)\n",
      "- feats layer shape : (50, 64, 112, 112) in layer 2\n",
      "Staring with 3th layer, total 50 layers\n"
     ]
    },
    {
     "name": "stderr",
     "output_type": "stream",
     "text": [
      "\n",
      "13it [00:01,  6.58it/s]\n"
     ]
    },
    {
     "name": "stdout",
     "output_type": "stream",
     "text": [
      ">> check array shape :  (4, 256, 112, 112)\n",
      "- feats layer shape : (50, 256, 112, 112) in layer 3\n",
      "Staring with 4th layer, total 50 layers\n"
     ]
    },
    {
     "name": "stderr",
     "output_type": "stream",
     "text": [
      "13it [00:01,  7.49it/s]"
     ]
    },
    {
     "name": "stdout",
     "output_type": "stream",
     "text": [
      ">> check array shape :  (4, 64, 112, 112)\n",
      "- feats layer shape : (50, 64, 112, 112) in layer 4\n",
      "Staring with 5th layer, total 50 layers\n"
     ]
    },
    {
     "name": "stderr",
     "output_type": "stream",
     "text": [
      "\n",
      "13it [00:02,  6.46it/s]"
     ]
    },
    {
     "name": "stdout",
     "output_type": "stream",
     "text": [
      ">> check array shape :  (4, 64, 112, 112)\n",
      "- feats layer shape : (50, 64, 112, 112) in layer 5\n",
      "Staring with 6th layer, total 50 layers\n"
     ]
    },
    {
     "name": "stderr",
     "output_type": "stream",
     "text": [
      "\n",
      "13it [00:01,  7.51it/s]\n"
     ]
    },
    {
     "name": "stdout",
     "output_type": "stream",
     "text": [
      ">> check array shape :  (4, 256, 112, 112)\n",
      "- feats layer shape : (50, 256, 112, 112) in layer 6\n",
      "Staring with 7th layer, total 50 layers\n"
     ]
    },
    {
     "name": "stderr",
     "output_type": "stream",
     "text": [
      "13it [00:01,  6.86it/s]"
     ]
    },
    {
     "name": "stdout",
     "output_type": "stream",
     "text": [
      ">> check array shape :  (4, 64, 112, 112)\n",
      "- feats layer shape : (50, 64, 112, 112) in layer 7\n",
      "Staring with 8th layer, total 50 layers\n"
     ]
    },
    {
     "name": "stderr",
     "output_type": "stream",
     "text": [
      "\n",
      "13it [00:01,  6.67it/s]"
     ]
    },
    {
     "name": "stdout",
     "output_type": "stream",
     "text": [
      ">> check array shape :  (4, 64, 112, 112)\n",
      "- feats layer shape : (50, 64, 112, 112) in layer 8\n",
      "Staring with 9th layer, total 50 layers\n"
     ]
    },
    {
     "name": "stderr",
     "output_type": "stream",
     "text": [
      "\n",
      "13it [00:01,  7.14it/s]\n"
     ]
    },
    {
     "name": "stdout",
     "output_type": "stream",
     "text": [
      ">> check array shape :  (4, 256, 112, 112)\n",
      "- feats layer shape : (50, 256, 112, 112) in layer 9\n",
      "Staring with 10th layer, total 50 layers\n"
     ]
    },
    {
     "name": "stderr",
     "output_type": "stream",
     "text": [
      "13it [00:02,  6.02it/s]"
     ]
    },
    {
     "name": "stdout",
     "output_type": "stream",
     "text": [
      ">> check array shape :  (4, 128, 112, 112)\n",
      "- feats layer shape : (50, 128, 112, 112) in layer 10\n",
      "Staring with 11th layer, total 50 layers\n"
     ]
    },
    {
     "name": "stderr",
     "output_type": "stream",
     "text": [
      "\n",
      "13it [00:01,  7.08it/s]"
     ]
    },
    {
     "name": "stdout",
     "output_type": "stream",
     "text": [
      ">> check array shape :  (4, 128, 56, 56)\n",
      "- feats layer shape : (50, 128, 56, 56) in layer 11\n",
      "Staring with 12th layer, total 50 layers\n"
     ]
    },
    {
     "name": "stderr",
     "output_type": "stream",
     "text": [
      "\n",
      "13it [00:02,  6.26it/s]"
     ]
    },
    {
     "name": "stdout",
     "output_type": "stream",
     "text": [
      ">> check array shape :  (4, 512, 56, 56)\n",
      "- feats layer shape : (50, 512, 56, 56) in layer 12\n",
      "Staring with 13th layer, total 50 layers\n"
     ]
    },
    {
     "name": "stderr",
     "output_type": "stream",
     "text": [
      "\n",
      "13it [00:01,  7.41it/s]"
     ]
    },
    {
     "name": "stdout",
     "output_type": "stream",
     "text": [
      ">> check array shape :  (4, 128, 56, 56)\n",
      "- feats layer shape : (50, 128, 56, 56) in layer 13\n",
      "Staring with 14th layer, total 50 layers\n"
     ]
    },
    {
     "name": "stderr",
     "output_type": "stream",
     "text": [
      "\n",
      "13it [00:01,  6.91it/s]"
     ]
    },
    {
     "name": "stdout",
     "output_type": "stream",
     "text": [
      ">> check array shape :  (4, 128, 56, 56)\n",
      "- feats layer shape : (50, 128, 56, 56) in layer 14\n",
      "Staring with 15th layer, total 50 layers\n"
     ]
    },
    {
     "name": "stderr",
     "output_type": "stream",
     "text": [
      "\n",
      "13it [00:01,  6.55it/s]"
     ]
    },
    {
     "name": "stdout",
     "output_type": "stream",
     "text": [
      ">> check array shape :  (4, 512, 56, 56)\n",
      "- feats layer shape : (50, 512, 56, 56) in layer 15\n",
      "Staring with 16th layer, total 50 layers\n"
     ]
    },
    {
     "name": "stderr",
     "output_type": "stream",
     "text": [
      "\n",
      "13it [00:01,  7.08it/s]"
     ]
    },
    {
     "name": "stdout",
     "output_type": "stream",
     "text": [
      ">> check array shape :  (4, 128, 56, 56)\n",
      "- feats layer shape : (50, 128, 56, 56) in layer 16\n",
      "Staring with 17th layer, total 50 layers\n"
     ]
    },
    {
     "name": "stderr",
     "output_type": "stream",
     "text": [
      "\n",
      "13it [00:01,  6.79it/s]"
     ]
    },
    {
     "name": "stdout",
     "output_type": "stream",
     "text": [
      ">> check array shape :  (4, 128, 56, 56)\n",
      "- feats layer shape : (50, 128, 56, 56) in layer 17\n",
      "Staring with 18th layer, total 50 layers\n"
     ]
    },
    {
     "name": "stderr",
     "output_type": "stream",
     "text": [
      "\n",
      "13it [00:01,  6.62it/s]"
     ]
    },
    {
     "name": "stdout",
     "output_type": "stream",
     "text": [
      ">> check array shape :  (4, 512, 56, 56)\n",
      "- feats layer shape : (50, 512, 56, 56) in layer 18\n",
      "Staring with 19th layer, total 50 layers\n"
     ]
    },
    {
     "name": "stderr",
     "output_type": "stream",
     "text": [
      "\n",
      "13it [00:01,  7.32it/s]"
     ]
    },
    {
     "name": "stdout",
     "output_type": "stream",
     "text": [
      ">> check array shape :  (4, 128, 56, 56)\n",
      "- feats layer shape : (50, 128, 56, 56) in layer 19\n",
      "Staring with 20th layer, total 50 layers\n"
     ]
    },
    {
     "name": "stderr",
     "output_type": "stream",
     "text": [
      "\n",
      "13it [00:01,  6.55it/s]"
     ]
    },
    {
     "name": "stdout",
     "output_type": "stream",
     "text": [
      ">> check array shape :  (4, 128, 56, 56)\n",
      "- feats layer shape : (50, 128, 56, 56) in layer 20\n",
      "Staring with 21th layer, total 50 layers\n"
     ]
    },
    {
     "name": "stderr",
     "output_type": "stream",
     "text": [
      "\n",
      "13it [00:01,  6.60it/s]"
     ]
    },
    {
     "name": "stdout",
     "output_type": "stream",
     "text": [
      ">> check array shape :  (4, 512, 56, 56)\n",
      "- feats layer shape : (50, 512, 56, 56) in layer 21\n",
      "Staring with 22th layer, total 50 layers\n"
     ]
    },
    {
     "name": "stderr",
     "output_type": "stream",
     "text": [
      "\n",
      "13it [00:02,  6.25it/s]"
     ]
    },
    {
     "name": "stdout",
     "output_type": "stream",
     "text": [
      ">> check array shape :  (4, 256, 56, 56)\n",
      "- feats layer shape : (50, 256, 56, 56) in layer 22\n",
      "Staring with 23th layer, total 50 layers\n"
     ]
    },
    {
     "name": "stderr",
     "output_type": "stream",
     "text": [
      "\n",
      "13it [00:01,  6.93it/s]"
     ]
    },
    {
     "name": "stdout",
     "output_type": "stream",
     "text": [
      ">> check array shape :  (4, 256, 28, 28)\n",
      "- feats layer shape : (50, 256, 28, 28) in layer 23\n",
      "Staring with 24th layer, total 50 layers\n"
     ]
    },
    {
     "name": "stderr",
     "output_type": "stream",
     "text": [
      "\n",
      "13it [00:01,  6.84it/s]"
     ]
    },
    {
     "name": "stdout",
     "output_type": "stream",
     "text": [
      ">> check array shape :  (4, 1024, 28, 28)\n",
      "- feats layer shape : (50, 1024, 28, 28) in layer 24\n",
      "Staring with 25th layer, total 50 layers\n"
     ]
    },
    {
     "name": "stderr",
     "output_type": "stream",
     "text": [
      "\n",
      "13it [00:01,  7.25it/s]"
     ]
    },
    {
     "name": "stdout",
     "output_type": "stream",
     "text": [
      ">> check array shape :  (4, 256, 28, 28)\n",
      "- feats layer shape : (50, 256, 28, 28) in layer 25\n",
      "Staring with 26th layer, total 50 layers\n"
     ]
    },
    {
     "name": "stderr",
     "output_type": "stream",
     "text": [
      "\n",
      "13it [00:02,  6.48it/s]"
     ]
    },
    {
     "name": "stdout",
     "output_type": "stream",
     "text": [
      ">> check array shape :  (4, 256, 28, 28)\n",
      "- feats layer shape : (50, 256, 28, 28) in layer 26\n",
      "Staring with 27th layer, total 50 layers\n"
     ]
    },
    {
     "name": "stderr",
     "output_type": "stream",
     "text": [
      "\n",
      "13it [00:01,  6.84it/s]"
     ]
    },
    {
     "name": "stdout",
     "output_type": "stream",
     "text": [
      ">> check array shape :  (4, 1024, 28, 28)\n",
      "- feats layer shape : (50, 1024, 28, 28) in layer 27\n",
      "Staring with 28th layer, total 50 layers\n"
     ]
    },
    {
     "name": "stderr",
     "output_type": "stream",
     "text": [
      "\n",
      "13it [00:01,  7.10it/s]"
     ]
    },
    {
     "name": "stdout",
     "output_type": "stream",
     "text": [
      ">> check array shape :  (4, 256, 28, 28)\n",
      "- feats layer shape : (50, 256, 28, 28) in layer 28\n",
      "Staring with 29th layer, total 50 layers\n"
     ]
    },
    {
     "name": "stderr",
     "output_type": "stream",
     "text": [
      "\n",
      "13it [00:02,  6.38it/s]"
     ]
    },
    {
     "name": "stdout",
     "output_type": "stream",
     "text": [
      ">> check array shape :  (4, 256, 28, 28)\n",
      "- feats layer shape : (50, 256, 28, 28) in layer 29\n",
      "Staring with 30th layer, total 50 layers\n"
     ]
    },
    {
     "name": "stderr",
     "output_type": "stream",
     "text": [
      "\n",
      "13it [00:01,  6.86it/s]"
     ]
    },
    {
     "name": "stdout",
     "output_type": "stream",
     "text": [
      ">> check array shape :  (4, 1024, 28, 28)\n",
      "- feats layer shape : (50, 1024, 28, 28) in layer 30\n",
      "Staring with 31th layer, total 50 layers\n"
     ]
    },
    {
     "name": "stderr",
     "output_type": "stream",
     "text": [
      "\n",
      "13it [00:01,  6.59it/s]"
     ]
    },
    {
     "name": "stdout",
     "output_type": "stream",
     "text": [
      ">> check array shape :  (4, 256, 28, 28)\n",
      "- feats layer shape : (50, 256, 28, 28) in layer 31\n",
      "Staring with 32th layer, total 50 layers\n"
     ]
    },
    {
     "name": "stderr",
     "output_type": "stream",
     "text": [
      "\n",
      "13it [00:01,  6.71it/s]"
     ]
    },
    {
     "name": "stdout",
     "output_type": "stream",
     "text": [
      ">> check array shape :  (4, 256, 28, 28)\n",
      "- feats layer shape : (50, 256, 28, 28) in layer 32\n",
      "Staring with 33th layer, total 50 layers\n"
     ]
    },
    {
     "name": "stderr",
     "output_type": "stream",
     "text": [
      "\n",
      "13it [00:02,  6.05it/s]"
     ]
    },
    {
     "name": "stdout",
     "output_type": "stream",
     "text": [
      ">> check array shape :  (4, 1024, 28, 28)\n",
      "- feats layer shape : (50, 1024, 28, 28) in layer 33\n",
      "Staring with 34th layer, total 50 layers\n"
     ]
    },
    {
     "name": "stderr",
     "output_type": "stream",
     "text": [
      "\n",
      "13it [00:02,  6.29it/s]"
     ]
    },
    {
     "name": "stdout",
     "output_type": "stream",
     "text": [
      ">> check array shape :  (4, 256, 28, 28)\n",
      "- feats layer shape : (50, 256, 28, 28) in layer 34\n",
      "Staring with 35th layer, total 50 layers\n"
     ]
    },
    {
     "name": "stderr",
     "output_type": "stream",
     "text": [
      "\n",
      "13it [00:02,  6.44it/s]"
     ]
    },
    {
     "name": "stdout",
     "output_type": "stream",
     "text": [
      ">> check array shape :  (4, 256, 28, 28)\n",
      "- feats layer shape : (50, 256, 28, 28) in layer 35\n",
      "Staring with 36th layer, total 50 layers\n"
     ]
    },
    {
     "name": "stderr",
     "output_type": "stream",
     "text": [
      "\n",
      "13it [00:01,  6.83it/s]"
     ]
    },
    {
     "name": "stdout",
     "output_type": "stream",
     "text": [
      ">> check array shape :  (4, 1024, 28, 28)\n",
      "- feats layer shape : (50, 1024, 28, 28) in layer 36\n",
      "Staring with 37th layer, total 50 layers\n"
     ]
    },
    {
     "name": "stderr",
     "output_type": "stream",
     "text": [
      "\n",
      "13it [00:02,  6.46it/s]"
     ]
    },
    {
     "name": "stdout",
     "output_type": "stream",
     "text": [
      ">> check array shape :  (4, 256, 28, 28)\n",
      "- feats layer shape : (50, 256, 28, 28) in layer 37\n",
      "Staring with 38th layer, total 50 layers\n"
     ]
    },
    {
     "name": "stderr",
     "output_type": "stream",
     "text": [
      "\n",
      "13it [00:02,  6.25it/s]"
     ]
    },
    {
     "name": "stdout",
     "output_type": "stream",
     "text": [
      ">> check array shape :  (4, 256, 28, 28)\n",
      "- feats layer shape : (50, 256, 28, 28) in layer 38\n",
      "Staring with 39th layer, total 50 layers\n"
     ]
    },
    {
     "name": "stderr",
     "output_type": "stream",
     "text": [
      "\n",
      "13it [00:01,  7.48it/s]\n"
     ]
    },
    {
     "name": "stdout",
     "output_type": "stream",
     "text": [
      ">> check array shape :  (4, 1024, 28, 28)\n",
      "- feats layer shape : (50, 1024, 28, 28) in layer 39\n",
      "Staring with 40th layer, total 50 layers\n"
     ]
    },
    {
     "name": "stderr",
     "output_type": "stream",
     "text": [
      "13it [00:02,  6.38it/s]"
     ]
    },
    {
     "name": "stdout",
     "output_type": "stream",
     "text": [
      ">> check array shape :  (4, 512, 28, 28)\n",
      "- feats layer shape : (50, 512, 28, 28) in layer 40\n",
      "Staring with 41th layer, total 50 layers\n"
     ]
    },
    {
     "name": "stderr",
     "output_type": "stream",
     "text": [
      "\n",
      "13it [00:02,  6.09it/s]"
     ]
    },
    {
     "name": "stdout",
     "output_type": "stream",
     "text": [
      ">> check array shape :  (4, 512, 14, 14)\n",
      "- feats layer shape : (50, 512, 14, 14) in layer 41\n",
      "Staring with 42th layer, total 50 layers\n"
     ]
    },
    {
     "name": "stderr",
     "output_type": "stream",
     "text": [
      "\n",
      "13it [00:01,  6.66it/s]"
     ]
    },
    {
     "name": "stdout",
     "output_type": "stream",
     "text": [
      ">> check array shape :  (4, 2048, 14, 14)\n",
      "- feats layer shape : (50, 2048, 14, 14) in layer 42\n",
      "Staring with 43th layer, total 50 layers\n"
     ]
    },
    {
     "name": "stderr",
     "output_type": "stream",
     "text": [
      "\n",
      "13it [00:01,  6.53it/s]"
     ]
    },
    {
     "name": "stdout",
     "output_type": "stream",
     "text": [
      ">> check array shape :  (4, 512, 14, 14)\n",
      "- feats layer shape : (50, 512, 14, 14) in layer 43\n",
      "Staring with 44th layer, total 50 layers\n"
     ]
    },
    {
     "name": "stderr",
     "output_type": "stream",
     "text": [
      "\n",
      "13it [00:02,  6.24it/s]"
     ]
    },
    {
     "name": "stdout",
     "output_type": "stream",
     "text": [
      ">> check array shape :  (4, 512, 14, 14)\n",
      "- feats layer shape : (50, 512, 14, 14) in layer 44\n",
      "Staring with 45th layer, total 50 layers\n"
     ]
    },
    {
     "name": "stderr",
     "output_type": "stream",
     "text": [
      "\n",
      "13it [00:02,  6.44it/s]"
     ]
    },
    {
     "name": "stdout",
     "output_type": "stream",
     "text": [
      ">> check array shape :  (4, 2048, 14, 14)\n",
      "- feats layer shape : (50, 2048, 14, 14) in layer 45\n",
      "Staring with 46th layer, total 50 layers\n"
     ]
    },
    {
     "name": "stderr",
     "output_type": "stream",
     "text": [
      "\n",
      "13it [00:01,  6.74it/s]"
     ]
    },
    {
     "name": "stdout",
     "output_type": "stream",
     "text": [
      ">> check array shape :  (4, 512, 14, 14)\n",
      "- feats layer shape : (50, 512, 14, 14) in layer 46\n",
      "Staring with 47th layer, total 50 layers\n"
     ]
    },
    {
     "name": "stderr",
     "output_type": "stream",
     "text": [
      "\n",
      "13it [00:02,  6.27it/s]"
     ]
    },
    {
     "name": "stdout",
     "output_type": "stream",
     "text": [
      ">> check array shape :  (4, 512, 14, 14)\n",
      "- feats layer shape : (50, 512, 14, 14) in layer 47\n",
      "Staring with 48th layer, total 50 layers\n"
     ]
    },
    {
     "name": "stderr",
     "output_type": "stream",
     "text": [
      "\n",
      "13it [00:02,  5.98it/s]"
     ]
    },
    {
     "name": "stdout",
     "output_type": "stream",
     "text": [
      ">> check array shape :  (4, 2048, 14, 14)\n",
      "- feats layer shape : (50, 2048, 14, 14) in layer 48\n",
      "Staring with 49th layer, total 50 layers\n"
     ]
    },
    {
     "name": "stderr",
     "output_type": "stream",
     "text": [
      "\n",
      "13it [00:01,  6.64it/s]"
     ]
    },
    {
     "name": "stdout",
     "output_type": "stream",
     "text": [
      ">> check array shape :  (4, 512, 14, 14)\n",
      "- feats layer shape : (50, 512, 14, 14) in layer 49\n",
      "-- durting time :  110.79774022102356\n"
     ]
    },
    {
     "name": "stderr",
     "output_type": "stream",
     "text": [
      "\n"
     ]
    }
   ],
   "source": [
    "import time\n",
    "from tqdm import tqdm\n",
    "\n",
    "start_time = time.time()\n",
    "features_list_2 = list() \n",
    "\n",
    "for i in range(len(layer_name_list_2)) :\n",
    "    print(f'Staring with {i}th layer, total 50 layers')\n",
    "\n",
    "    preds_all_list = list()\n",
    "    feats_all_list = list()\n",
    "\n",
    "    for idx, (img, label) in tqdm(enumerate(dataloaders)) :\n",
    "        img = img.to(device)\n",
    "        label = label.to(device)\n",
    "        features = dict()\n",
    "        preds = net2(img)\n",
    "    \n",
    "        preds_all_list.append(preds.detach().cpu().numpy())\n",
    "        feats_all_list.append(features[str(i)].cpu().numpy()) \n",
    "    \n",
    "    features = np.empty((50,feats_all_list[0].shape[1] ,feats_all_list[0].shape[2] ,feats_all_list[0].shape[3]), dtype='float32')\n",
    "    \n",
    "    print('>> check array shape : ', feats_all_list[0].shape)\n",
    "    \n",
    "    count = 0\n",
    "    for j in range(len(feats_all_list)) :\n",
    "        for k in range(feats_all_list[j].shape[0]) :\n",
    "            #temp = feats_all_list[j][k].astype(np.float16)\n",
    "            features[count] = feats_all_list[j][k]\n",
    "            count += 1\n",
    "    \n",
    "    features_list_2.append(features)\n",
    "    print('- feats layer shape :', features.shape, f'in layer {i}')\n",
    "\n",
    "print('-- durting time : ', time.time() - start_time)"
   ]
  },
  {
   "cell_type": "code",
   "execution_count": 19,
   "id": "7b8e6467",
   "metadata": {},
   "outputs": [
    {
     "name": "stdout",
     "output_type": "stream",
     "text": [
      "Staring with 0th layer, total layer 50 ... \n",
      "Staring with 1th layer, total layer 50 ... \n",
      "Staring with 2th layer, total layer 50 ... \n",
      "Staring with 3th layer, total layer 50 ... \n",
      "Staring with 4th layer, total layer 50 ... \n",
      "Staring with 5th layer, total layer 50 ... \n",
      "Staring with 6th layer, total layer 50 ... \n",
      "Staring with 7th layer, total layer 50 ... \n",
      "Staring with 8th layer, total layer 50 ... \n",
      "Staring with 9th layer, total layer 50 ... \n",
      "Staring with 10th layer, total layer 50 ... \n",
      "Staring with 11th layer, total layer 50 ... \n",
      "Staring with 12th layer, total layer 50 ... \n",
      "Staring with 13th layer, total layer 50 ... \n",
      "Staring with 14th layer, total layer 50 ... \n",
      "Staring with 15th layer, total layer 50 ... \n",
      "Staring with 16th layer, total layer 50 ... \n",
      "Staring with 17th layer, total layer 50 ... \n",
      "Staring with 18th layer, total layer 50 ... \n",
      "Staring with 19th layer, total layer 50 ... \n",
      "Staring with 20th layer, total layer 50 ... \n",
      "Staring with 21th layer, total layer 50 ... \n",
      "Staring with 22th layer, total layer 50 ... \n",
      "Staring with 23th layer, total layer 50 ... \n",
      "Staring with 24th layer, total layer 50 ... \n",
      "Staring with 25th layer, total layer 50 ... \n",
      "Staring with 26th layer, total layer 50 ... \n",
      "Staring with 27th layer, total layer 50 ... \n",
      "Staring with 28th layer, total layer 50 ... \n",
      "Staring with 29th layer, total layer 50 ... \n",
      "Staring with 30th layer, total layer 50 ... \n",
      "Staring with 31th layer, total layer 50 ... \n",
      "Staring with 32th layer, total layer 50 ... \n",
      "Staring with 33th layer, total layer 50 ... \n",
      "Staring with 34th layer, total layer 50 ... \n",
      "Staring with 35th layer, total layer 50 ... \n",
      "Staring with 36th layer, total layer 50 ... \n",
      "Staring with 37th layer, total layer 50 ... \n",
      "Staring with 38th layer, total layer 50 ... \n",
      "Staring with 39th layer, total layer 50 ... \n",
      "Staring with 40th layer, total layer 50 ... \n",
      "Staring with 41th layer, total layer 50 ... \n",
      "Staring with 42th layer, total layer 50 ... \n",
      "Staring with 43th layer, total layer 50 ... \n",
      "Staring with 44th layer, total layer 50 ... \n",
      "Staring with 45th layer, total layer 50 ... \n",
      "Staring with 46th layer, total layer 50 ... \n",
      "Staring with 47th layer, total layer 50 ... \n",
      "Staring with 48th layer, total layer 50 ... \n",
      "Staring with 49th layer, total layer 50 ... \n",
      "Duration time :  881.8042948246002\n"
     ]
    }
   ],
   "source": [
    "cka_all_scores = np.zeros((50, 50), dtype = 'float32')\n",
    "start_time = time.time()\n",
    "\n",
    "for i in range(50) :\n",
    "    print(f'Staring with {i}th layer, total layer 50 ... ')\n",
    "    \n",
    "    shape = features_list[i].shape\n",
    "    activationA = np.reshape(features_list[i], newshape = (shape[0], np.prod(shape[1:])))\n",
    "        \n",
    "    for j in range(50) :\n",
    "        #print(f'-- Intermediate with {j}th, total 52')\n",
    "        \n",
    "        shape = features_list_2[j].shape\n",
    "        activationB = np.reshape(features_list_2[j], newshape = (shape[0], np.prod(shape[1:])))\n",
    "        \n",
    "        cka = kernel_CKA(activationA, activationB)\n",
    "        cka_all_scores[i][j] = cka\n",
    "\n",
    "print('Duration time : ', time.time() - start_time)"
   ]
  },
  {
   "cell_type": "code",
   "execution_count": 20,
   "id": "a740ac68",
   "metadata": {},
   "outputs": [
    {
     "name": "stdout",
     "output_type": "stream",
     "text": [
      "[[0.99968994 0.9506231  0.987054   ... 0.6896107  0.7000903  0.71475416]\n",
      " [0.9480774  0.9991989  0.9772036  ... 0.8017468  0.79103345 0.8259442 ]\n",
      " [0.9753772  0.9905113  0.99376684 ... 0.780806   0.78110284 0.8080173 ]\n",
      " ...\n",
      " [0.40013167 0.44955227 0.42563206 ... 0.53013885 0.5519825  0.5416791 ]\n",
      " [0.375024   0.41050783 0.39214054 ... 0.46847185 0.508896   0.4842188 ]\n",
      " [0.6302062  0.7471611  0.68310714 ... 0.8709159  0.8818852  0.9000072 ]]\n"
     ]
    }
   ],
   "source": [
    "# 50*50 \n",
    "print(cka_all_scores)"
   ]
  },
  {
   "cell_type": "code",
   "execution_count": 23,
   "id": "2e284b5b",
   "metadata": {},
   "outputs": [
    {
     "data": {
      "image/png": "[encoded data removed]",
      "text/plain": [
       "<Figure size 864x720 with 2 Axes>"
      ]
     },
     "metadata": {
      "needs_background": "light"
     },
     "output_type": "display_data"
    }
   ],
   "source": [
    "import seaborn as sns\n",
    "import matplotlib.pyplot as plt\n",
    "\n",
    "plt.figure(figsize = (12, 10))\n",
    "ax = sns.heatmap(cka_all_scores)\n",
    "plt.show()"
   ]
  },
  {
   "cell_type": "code",
   "execution_count": null,
   "id": "2ff8020c",
   "metadata": {},
   "outputs": [],
   "source": []
  },
  {
   "cell_type": "code",
   "execution_count": null,
   "id": "6bfba96d",
   "metadata": {},
   "outputs": [],
   "source": []
  }
 ],
 "metadata": {
  "environment": {
   "name": "pytorch-gpu.1-8.m68",
   "type": "gcloud",
   "uri": "gcr.io/deeplearning-platform-release/pytorch-gpu.1-8:m68"
  },
  "kernelspec": {
   "display_name": "Python [conda env:root] *",
   "language": "python",
   "name": "conda-root-py"
  },
  "language_info": {
   "codemirror_mode": {
    "name": "ipython",
    "version": 3
   },
   "file_extension": ".py",
   "mimetype": "text/x-python",
   "name": "python",
   "nbconvert_exporter": "python",
   "pygments_lexer": "ipython3",
   "version": "3.7.10"
  }
 },
 "nbformat": 4,
 "nbformat_minor": 5
}
